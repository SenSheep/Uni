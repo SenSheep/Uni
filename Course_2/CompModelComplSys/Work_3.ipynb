{
 "cells": [
  {
   "cell_type": "markdown",
   "metadata": {},
   "source": [
    "# БФБО-05-23 Баранов Арсений Юрьевич"
   ]
  },
  {
   "cell_type": "markdown",
   "metadata": {},
   "source": [
    "## Практика № 3 «ER-моделирование» | Практика"
   ]
  },
  {
   "cell_type": "markdown",
   "metadata": {},
   "source": [
    "### Задание 1\n",
    "Разработайте ER-модель для системы управления университетом. Модель\n",
    "должна включать в себя сущности, такие как \"Студент\", \"Преподаватель\",\n",
    "\"Курс\", \"Факультет\" и другие соответствующие сущности. Определите\n",
    "атрибуты для каждой сущности и их взаимосвязи, например, какие курсы\n",
    "ведет каждый преподаватель, какие курсы посещает каждый студент и так\n",
    "далее."
   ]
  },
  {
   "cell_type": "code",
   "execution_count": null,
   "metadata": {},
   "outputs": [],
   "source": []
  }
 ],
 "metadata": {
  "kernelspec": {
   "display_name": "Python 3",
   "language": "python",
   "name": "python3"
  },
  "language_info": {
   "name": "python",
   "version": "3.12.2"
  }
 },
 "nbformat": 4,
 "nbformat_minor": 2
}
