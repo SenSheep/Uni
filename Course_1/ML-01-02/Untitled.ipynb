{
 "cells": [
  {
   "cell_type": "markdown",
   "id": "aa33f438",
   "metadata": {},
   "source": [
    "Задача №1"
   ]
  },
  {
   "cell_type": "code",
   "execution_count": 2,
   "id": "22208e27",
   "metadata": {},
   "outputs": [
    {
     "name": "stdout",
     "output_type": "stream",
     "text": [
      "Введите количество уровней пирамиды Паскаля: 13\n",
      "Пирамида Паскаля:\n",
      "                     1                     \n",
      "                    1 1                    \n",
      "                   1 2 1                   \n",
      "                  1 3 3 1                  \n",
      "                 1 4 6 4 1                 \n",
      "               1 5 10 10 5 1               \n",
      "              1 6 15 20 15 6 1             \n",
      "            1 7 21 35 35 21 7 1            \n",
      "           1 8 28 56 70 56 28 8 1          \n",
      "        1 9 36 84 126 126 84 36 9 1        \n",
      "    1 10 45 120 210 252 210 120 45 10 1    \n",
      "  1 11 55 165 330 462 462 330 165 55 11 1  \n",
      "1 12 66 220 495 792 924 792 495 220 66 12 1\n"
     ]
    }
   ],
   "source": [
    "def generate_pascal_triangle(levels):\n",
    "    triangle = [[1]]\n",
    "    for i in range(1, levels):\n",
    "        prev_row = triangle[-1]\n",
    "        new_row = [1]\n",
    "        for j in range(1, i):\n",
    "            new_row.append(prev_row[j - 1] + prev_row[j])\n",
    "        new_row.append(1)\n",
    "        triangle.append(new_row)\n",
    "    return triangle\n",
    "\n",
    "def print_pascal_triangle(triangle):\n",
    "    max_width = len(' '.join(map(str, triangle[-1])))\n",
    "    for row in triangle:\n",
    "        row_str = ' '.join(map(str, row)).center(max_width)\n",
    "        print(row_str)\n",
    "\n",
    "def main():\n",
    "    try:\n",
    "        levels = int(input(\"Введите количество уровней пирамиды Паскаля: \"))\n",
    "        if levels <= 0:\n",
    "            print(\"Введите положительное целое число.\")\n",
    "            return\n",
    "        triangle = generate_pascal_triangle(levels)\n",
    "        print(\"Пирамида Паскаля:\")\n",
    "        print_pascal_triangle(triangle)\n",
    "    except ValueError:\n",
    "        print(\"Введите корректное целое число.\")\n",
    "\n",
    "main()"
   ]
  },
  {
   "cell_type": "markdown",
   "id": "57a84bd3",
   "metadata": {},
   "source": [
    "Задача №2"
   ]
  },
  {
   "cell_type": "code",
   "execution_count": 5,
   "id": "332e8b6e",
   "metadata": {},
   "outputs": [
    {
     "name": "stdout",
     "output_type": "stream",
     "text": [
      "218\n",
      "123+45+67-8-9\n"
     ]
    },
    {
     "ename": "SystemExit",
     "evalue": "",
     "output_type": "error",
     "traceback": [
      "An exception has occurred, use %tb to see the full traceback.\n",
      "\u001b[1;31mSystemExit\u001b[0m\n"
     ]
    }
   ],
   "source": [
    "import sys\n",
    "n = int(input()) \n",
    "for i1 in ['', '-', '+']: \n",
    "    for i2 in ['', '-', '+']: \n",
    "        for i3 in ['', '-', '+']: \n",
    "            for i4 in ['', '-', '+']: \n",
    "                for i5 in ['', '-', '+']: \n",
    "                    for i6 in ['', '-', '+']: \n",
    "                        for i7 in ['', '-', '+']: \n",
    "                            for i8 in ['', '-', '+']: \n",
    "                                s = '1' + i1 + '2' + i2 + '3' + i3 + '4' + i4 + '5' + i5 + '6' + i6 + '7' + i7 + '8' + i8 + '9' \n",
    "                                if eval(s) == n: \n",
    "                                    print(s) \n",
    "                                    sys.exit()\n",
    "            \n",
    "print('Нет решения')"
   ]
  },
  {
   "cell_type": "code",
   "execution_count": 6,
   "id": "421d18c7",
   "metadata": {},
   "outputs": [
    {
     "name": "stdout",
     "output_type": "stream",
     "text": [
      "Введите размер квадратной матрицы: 3\n",
      "Введите элементы матрицы построчно:\n",
      "2 5 7\n",
      "6 3 4\n",
      "5 -2 -3\n",
      "Обратная матрица:\n",
      "1.0\t-1.0\t1.0\t\n",
      "-38.0\t41.0\t-34.0\t\n",
      "27.0\t-29.0\t24.0\t\n"
     ]
    }
   ],
   "source": [
    "def get_matrix(size):\n",
    "    matrix = []\n",
    "    print(\"Введите элементы матрицы построчно:\")\n",
    "    for _ in range(size):\n",
    "        row = list(map(float, input().split()))\n",
    "        matrix.append(row)\n",
    "    return matrix\n",
    "\n",
    "def print_matrix(matrix):\n",
    "    for row in matrix:\n",
    "        for elem in row:\n",
    "            print(elem, end=\"\\t\")\n",
    "        print()\n",
    "\n",
    "def determinant(matrix):\n",
    "    size = len(matrix)\n",
    "    if size == 1:\n",
    "        return matrix[0][0]\n",
    "    elif size == 2:\n",
    "        return matrix[0][0]*matrix[1][1] - matrix[0][1]*matrix[1][0]\n",
    "    else:\n",
    "        det = 0\n",
    "        for i in range(size):\n",
    "            minor = [row[:i] + row[i+1:] for row in matrix[1:]]\n",
    "            det += (-1)**i * matrix[0][i] * determinant(minor)\n",
    "        return det\n",
    "\n",
    "def transpose(matrix):\n",
    "    return [[matrix[j][i] for j in range(len(matrix))] for i in range(len(matrix[0]))]\n",
    "\n",
    "def cofactor(matrix):\n",
    "    size = len(matrix)\n",
    "    cofactor_matrix = []\n",
    "    for i in range(size):\n",
    "        cofactor_row = []\n",
    "        for j in range(size):\n",
    "            minor = [row[:j] + row[j+1:] for row in (matrix[:i] + matrix[i+1:])]\n",
    "            cofactor_row.append((-1)**(i+j) * determinant(minor))\n",
    "        cofactor_matrix.append(cofactor_row)\n",
    "    return cofactor_matrix\n",
    "\n",
    "def inverse(matrix):\n",
    "    det = determinant(matrix)\n",
    "    if det == 0:\n",
    "        return \"Обратной матрицы не существует, определитель равен 0\"\n",
    "    size = len(matrix)\n",
    "    cofactor_matrix = cofactor(matrix)\n",
    "    adjugate_matrix = transpose(cofactor_matrix)\n",
    "    inverse_matrix = [[adjugate_matrix[i][j] / det for j in range(size)] for i in range(size)]\n",
    "    return inverse_matrix\n",
    "\n",
    "size = int(input(\"Введите размер квадратной матрицы: \"))\n",
    "matrix = get_matrix(size)\n",
    "\n",
    "inverse_matrix = inverse(matrix)\n",
    "if isinstance(inverse_matrix, str):\n",
    "    print(inverse_matrix)\n",
    "else:\n",
    "    print(\"Обратная матрица:\")\n",
    "    print_matrix(inverse_matrix)"
   ]
  },
  {
   "cell_type": "code",
   "execution_count": null,
   "id": "fac14012",
   "metadata": {},
   "outputs": [],
   "source": []
  }
 ],
 "metadata": {
  "kernelspec": {
   "display_name": "Python 3 (ipykernel)",
   "language": "python",
   "name": "python3"
  },
  "language_info": {
   "codemirror_mode": {
    "name": "ipython",
    "version": 3
   },
   "file_extension": ".py",
   "mimetype": "text/x-python",
   "name": "python",
   "nbconvert_exporter": "python",
   "pygments_lexer": "ipython3",
   "version": "3.11.4"
  }
 },
 "nbformat": 4,
 "nbformat_minor": 5
}
