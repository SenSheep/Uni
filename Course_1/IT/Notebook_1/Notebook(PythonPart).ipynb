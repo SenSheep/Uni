{
 "cells": [
  {
   "cell_type": "markdown",
   "id": "eb001818",
   "metadata": {},
   "source": [
    "## Теоретический материал\n",
    "Давайте создадим первую программу на Python.\n",
    "print('Hello world!')\n",
    "Функция print() выводит на экран сообщение в скобках. Кавычки окаймляют текст 'Hello world!'.\n",
    "Функция input() используется для ввода данных с клавиатуры:\n",
    "name = input('Введите имя')\n",
    "print('Привет, ' + name)\n",
    "Здесь name­ – имя переменной. Имена переменных используются для хранения значений. Символ + используется для соединения (конкатенации) строк.\n",
    "Pythonсодержит все необходимые математические операции.\n",
    "print(5 + 7)\t# сложение\n",
    "print(4 * 5)\t# умножение\n",
    "print(4 ** 3)\t# возведение в степень\n",
    "После символа # записываются комментарии, которые игнорируются интерпретатором."
   ]
  },
  {
   "cell_type": "markdown",
   "id": "b7263939",
   "metadata": {},
   "source": [
    "## Пример\n",
    "Найти значение функции . Значение  вводится с клавиатуры."
   ]
  },
  {
   "cell_type": "code",
   "execution_count": 1,
   "id": "dcacd61a",
   "metadata": {},
   "outputs": [
    {
     "name": "stdout",
     "output_type": "stream",
     "text": [
      "Введите х2\n",
      "-90.0\n"
     ]
    }
   ],
   "source": [
    "x = input('Введите х')\t# возвращается строка, не число\n",
    "x=float(x)\t\t# преобразуем строку в вещественное число\n",
    "y=x**2+3*x-100\n",
    "print(y)"
   ]
  },
  {
   "cell_type": "markdown",
   "id": "21eb9d98",
   "metadata": {},
   "source": [
    "## Задание 1\n",
    "Выведите на экран вашу Фамилию, Имя и номер студенческой группы."
   ]
  },
  {
   "cell_type": "code",
   "execution_count": 2,
   "id": "040d2b98",
   "metadata": {},
   "outputs": [
    {
     "name": "stdout",
     "output_type": "stream",
     "text": [
      "Баранов, Арсений, БФБО-05-23\n"
     ]
    }
   ],
   "source": [
    "print(\"Баранов, Арсений, БФБО-05-23\")"
   ]
  },
  {
   "cell_type": "markdown",
   "id": "195a71ae",
   "metadata": {},
   "source": [
    "## Задание 2\n",
    "Введите с клавиатуры два числа и сложите их. Выведите результат на экран."
   ]
  },
  {
   "cell_type": "code",
   "execution_count": 21,
   "id": "d5c22f16",
   "metadata": {},
   "outputs": [
    {
     "name": "stdout",
     "output_type": "stream",
     "text": [
      "3\n",
      "4\n",
      "3 + 4 = 7\n"
     ]
    }
   ],
   "source": [
    "x = int(input())\n",
    "y = int(input())\n",
    "print(f\"{x} + {y} =\", x + y)"
   ]
  },
  {
   "attachments": {
    "image.png": {
     "image/png": "[encoded data removed]"
    }
   },
   "cell_type": "markdown",
   "id": "20a99fe6",
   "metadata": {},
   "source": [
    "## Задание 3\n",
    "Найти значение функции ![image.png](attachment:image.png)\n",
    "Значение  вводится с клавиатуры."
   ]
  },
  {
   "cell_type": "code",
   "execution_count": 4,
   "id": "acd7755d",
   "metadata": {},
   "outputs": [
    {
     "name": "stdout",
     "output_type": "stream",
     "text": [
      "2\n",
      "17\n"
     ]
    }
   ],
   "source": [
    "x = int(input())\n",
    "print(x ** 5 - 2 * x ** 3 + 1)"
   ]
  },
  {
   "cell_type": "markdown",
   "id": "e521fd05",
   "metadata": {},
   "source": [
    "## Теоритический материал\n",
    "Примеры различных типов данных:\n",
    "_string = 'строка'\t# строка\n",
    "_integer = 12\t\t# целое число\n",
    "_float_1 = 3.14\t\t# вещественное число\n",
    "_float_2 = -2.7e-3\t# -0.0027\n",
    "_boolean = True\t# False\n",
    "Тип переменной всегда можно узнать с помощью функции type()\n",
    "print( type(_boolean) )\t# <class 'bool'>\n",
    "В Python есть следующие операции сравнения: == (проверка на равенство), !=(не равняется), < , <=(меньше или равняется), >, >=\n",
    "print(2+1 > 3*4)\t# False\n",
    "В Python есть следующие логические операции: and(логическое И),or(логическое ИЛИ), not(логическое отрицание).\n",
    "print( not (3>1 and False) )\t# True\n",
    "В Python есть также тип list (список), который позволяет хранить совокупность различных объектов:\n",
    "empty_list = [] \t\t\t\t# пустой список\n",
    "_list = [1, 3.14, 'свет', True, []]\t# список с элементами\n",
    "empty_list.append( 12 )\t\t# добавление элемента\n",
    "empty_list.append( [2.7, 3] )\n",
    "print( empty_list, _list ) #\n",
    "_list[0] = 'перезаписываем первый элемент на этот текст'\n",
    "print( _list, empty_list[1] )"
   ]
  },
  {
   "cell_type": "markdown",
   "id": "738ef56b",
   "metadata": {},
   "source": [
    "## Пример 1\n",
    "Проверить тип результата сложения целого числа с вещественным.\n"
   ]
  },
  {
   "cell_type": "code",
   "execution_count": 5,
   "id": "4087cb52",
   "metadata": {},
   "outputs": [
    {
     "name": "stdout",
     "output_type": "stream",
     "text": [
      "<class 'float'>\n"
     ]
    }
   ],
   "source": [
    "a = 12 + 3.14\n",
    "print( type(a) ) # функцияtypeвозвращает тип её аргумента"
   ]
  },
  {
   "attachments": {
    "image.png": {
     "image/png": "[encoded data removed]"
    }
   },
   "cell_type": "markdown",
   "id": "2103b892",
   "metadata": {},
   "source": [
    "## Пример 2\n",
    "Определите истинность следующего выражения:![image.png](attachment:image.png)"
   ]
  },
  {
   "cell_type": "code",
   "execution_count": 6,
   "id": "73c5fce4",
   "metadata": {},
   "outputs": [
    {
     "name": "stdout",
     "output_type": "stream",
     "text": [
      "True\n"
     ]
    }
   ],
   "source": [
    "print(9/3 > 2*3 or not(12 != 3**2+3 and 57-24 > 30) )"
   ]
  },
  {
   "cell_type": "markdown",
   "id": "d65591af",
   "metadata": {},
   "source": [
    "## Задание 1\n",
    "Напишите код для определения типа переменной strange, если:\n",
    "strange = [ [],1]"
   ]
  },
  {
   "cell_type": "code",
   "execution_count": 7,
   "id": "15255ae6",
   "metadata": {},
   "outputs": [
    {
     "name": "stdout",
     "output_type": "stream",
     "text": [
      "<class 'list'>\n"
     ]
    }
   ],
   "source": [
    "strange = [[], 1]\n",
    "print(type(strange))"
   ]
  },
  {
   "attachments": {
    "image.png": {
     "image/png": "[encoded data removed]"
    }
   },
   "cell_type": "markdown",
   "id": "ce661366",
   "metadata": {},
   "source": [
    "## Задание 2\n",
    "С помощью Python найдите такие значения и , которые обратят выражение в значение True.\n",
    "Выражение: ![image.png](attachment:image.png)"
   ]
  },
  {
   "cell_type": "code",
   "execution_count": 9,
   "id": "3472b6ea",
   "metadata": {},
   "outputs": [
    {
     "name": "stdout",
     "output_type": "stream",
     "text": [
      "x = 0 y = 1\n"
     ]
    }
   ],
   "source": [
    "for x in range(2):\n",
    "    for y in range(2):\n",
    "        if (x or y) and (not(x) or y) and not(x and y):\n",
    "            print(\"x =\", x,\"y =\", y)"
   ]
  },
  {
   "cell_type": "markdown",
   "id": "98d0260f",
   "metadata": {},
   "source": [
    "## Задание 3\n",
    "Добавьте в пустой список четыре любых значения и выведете их на экран в обратном порядке, использую для этого индексы элементов."
   ]
  },
  {
   "cell_type": "code",
   "execution_count": 18,
   "id": "1d8961e9",
   "metadata": {},
   "outputs": [
    {
     "name": "stdout",
     "output_type": "stream",
     "text": [
      "4\n",
      "3\n",
      "2\n",
      "1\n",
      "1 2 3 4\n"
     ]
    }
   ],
   "source": [
    "l = []\n",
    "for i in range(4):\n",
    "    x = int(input())\n",
    "    l.append(x)\n",
    "print(l[-1], l[-2], l[-3], l[-4])"
   ]
  },
  {
   "cell_type": "markdown",
   "id": "e2a5e362",
   "metadata": {},
   "source": [
    "## Теоретический материал\n",
    "Язык Python включает в себя множество полезных библиотек. Библиотека math является одной из таких. Она содержит все стандартные математические функции. Для использования библиотеку необходимо подключить:\n",
    "import math as m\n",
    "a\t= m.sin(m.pi/2)\t\t# \n",
    "b \t= m.sqrt( 16 )\t\t# \n",
    "c_1\t= m.e**2\t\t\t# \n",
    "c_2\t= m.exp(2)\t\t# \n",
    "d_1\t= m.log(8, 2)\t\t# \n",
    "d_2\t= m.log2(8)\t\t# \n",
    "e_1\t= m.ceil(3.14)\t\t# округление вверх (ответ 4)\n",
    "e_2\t= m.ceil(2.7)\t\t# округление вверх (ответ 3)"
   ]
  },
  {
   "attachments": {
    "image.png": {
     "image/png": "[encoded data removed]"
    }
   },
   "cell_type": "markdown",
   "id": "b3a06578",
   "metadata": {},
   "source": [
    "## Пример 1\n",
    "Написать программу для решения квадратного уравнения, через дискриминант:![image.png](attachment:image.png)"
   ]
  },
  {
   "cell_type": "code",
   "execution_count": 11,
   "id": "438c7ff3",
   "metadata": {},
   "outputs": [
    {
     "name": "stdout",
     "output_type": "stream",
     "text": [
      "0.10319474672552342 3.23013858660781\n"
     ]
    }
   ],
   "source": [
    "import math as m\n",
    "a, b, c = 3, -10, 1\n",
    "D\t= b**2-4*a*c\n",
    "x1 \t= (-b-m.sqrt(D))/(2*a)\n",
    "x2 \t= (-b+m.sqrt(D))/(2*a)\n",
    "print(x1, x2)"
   ]
  },
  {
   "attachments": {
    "image.png": {
     "image/png": "[encoded data removed]"
    }
   },
   "cell_type": "markdown",
   "id": "cd2fcf3a",
   "metadata": {},
   "source": [
    "## Пример 2\n",
    "Напишите программу для вычисления ![image.png](attachment:image.png), где x вводит пользователь с клавиатуры."
   ]
  },
  {
   "cell_type": "code",
   "execution_count": 12,
   "id": "f7b6020d",
   "metadata": {},
   "outputs": [
    {
     "name": "stdout",
     "output_type": "stream",
     "text": [
      "Введите x: 8\n",
      "-5.164635023228603\n"
     ]
    }
   ],
   "source": [
    "import math as m\n",
    "x = float( input(\"Введите x: \") )\n",
    "print( m.log2(7*x)*m.cos(x/3) )"
   ]
  },
  {
   "cell_type": "markdown",
   "id": "e6334c7c",
   "metadata": {},
   "source": [
    "## Задание 1\n",
    "Запрограммируйте формулы Хартли. Количество состояний вводится с клавиатуры."
   ]
  },
  {
   "cell_type": "code",
   "execution_count": 13,
   "id": "1541b103",
   "metadata": {},
   "outputs": [
    {
     "name": "stdout",
     "output_type": "stream",
     "text": [
      "4\n",
      "2.0\n"
     ]
    }
   ],
   "source": [
    "import math as m\n",
    "x = int(input())\n",
    "print(m.log2(x))"
   ]
  },
  {
   "cell_type": "markdown",
   "id": "6da8dd06",
   "metadata": {},
   "source": [
    "## Задание 2\n",
    "Запрограммируйте вычисление энтропии по Шеннону для систем из двух состояний. Вероятности вводятся с клавиатуры."
   ]
  },
  {
   "cell_type": "code",
   "execution_count": 14,
   "id": "68a6e75e",
   "metadata": {},
   "outputs": [
    {
     "name": "stdout",
     "output_type": "stream",
     "text": [
      "0.5\n",
      "0.5\n",
      "1.0\n"
     ]
    }
   ],
   "source": [
    "import math as m\n",
    "x = float(input())\n",
    "y = float(input())\n",
    "print((-x * m.log2(x)) + (-y * m.log2(y)))"
   ]
  },
  {
   "attachments": {
    "image.png": {
     "image/png": "[encoded data removed]"
    }
   },
   "cell_type": "markdown",
   "id": "78ec6601",
   "metadata": {},
   "source": [
    "## Задание 3\n",
    "Напишите программу для вычисления ![image.png](attachment:image.png), где x вводит пользователь с клавиатуры."
   ]
  },
  {
   "cell_type": "code",
   "execution_count": 16,
   "id": "1e178310",
   "metadata": {},
   "outputs": [
    {
     "data": {
      "text/plain": [
       "(0.43027172654955065-0.8867907441861673j)"
      ]
     },
     "execution_count": 16,
     "metadata": {},
     "output_type": "execute_result"
    }
   ],
   "source": [
    "import math as m\n",
    "\n",
    "(m.tan((m.cos(x) * m.sin(2 * 2)) / (x * 2.71828182846 ** x))) ** m.log(x, 7)"
   ]
  },
  {
   "cell_type": "markdown",
   "id": "9efdf056",
   "metadata": {},
   "source": [
    "## Задание 4\n",
    "Напишите программу для добавления бита четности к байту. Байт можете записать в виде списка (list) нулей и единиц."
   ]
  },
  {
   "cell_type": "code",
   "execution_count": 15,
   "id": "c3bd084e",
   "metadata": {},
   "outputs": [
    {
     "name": "stdout",
     "output_type": "stream",
     "text": [
      "[1, 0, 0, 1, 1, 0, 1]\n"
     ]
    }
   ],
   "source": [
    "l = [1, 0, 0, 1, 1, 0]\n",
    "if sum(l) % 2 == 0:\n",
    "    l.append(0)\n",
    "else:\n",
    "    l.append(1)\n",
    "print(l)"
   ]
  }
 ],
 "metadata": {
  "kernelspec": {
   "display_name": "Python 3 (ipykernel)",
   "language": "python",
   "name": "python3"
  },
  "language_info": {
   "codemirror_mode": {
    "name": "ipython",
    "version": 3
   },
   "file_extension": ".py",
   "mimetype": "text/x-python",
   "name": "python",
   "nbconvert_exporter": "python",
   "pygments_lexer": "ipython3",
   "version": "3.11.3"
  }
 },
 "nbformat": 4,
 "nbformat_minor": 5
}
