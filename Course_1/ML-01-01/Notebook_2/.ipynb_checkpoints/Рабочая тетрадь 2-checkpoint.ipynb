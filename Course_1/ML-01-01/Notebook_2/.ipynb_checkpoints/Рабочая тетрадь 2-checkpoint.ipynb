{
 "cells": [
  {
   "cell_type": "markdown",
   "id": "b6e8f452",
   "metadata": {},
   "source": [
    "# Баранов Арсений Юрьевич БФБО-05-23"
   ]
  },
  {
   "cell_type": "markdown",
   "id": "efca7dde",
   "metadata": {},
   "source": [
    "## Теоретический материал – Условный оператор\n",
    "~~~\n",
    "If – Условный оператор\n",
    "В коде часто приходится проверять выполнимость или\n",
    "невыполнимость каких-то условий. Синтаксис:\n",
    "if <условие1 (булевское выражение)> :\n",
    " <код, который выполнится, если условие верно>\n",
    "elif <условие2 (булевское выражение)>:\n",
    " <код, который выполнится, если условие1 было неверно, а\n",
    "условие2 верно>\n",
    "else:\n",
    " <код, который выполнится, если условие1 и условие2 были\n",
    "неверны>\n",
    "Обратите внимание, что код, который должен выполняться внутри\n",
    "каждого условия, записывается с отступом в 4 пробела от уровня if, elif и\n",
    "else: в питоне области видимости переменных обозначаются отступами.\n",
    "То есть, отступы позволяют понять, где начинается код,\n",
    "который должен выполняться при выполнении условия в if, и где\n",
    "заканчивается.\n",
    "~~~"
   ]
  },
  {
   "cell_type": "markdown",
   "id": "1bbe2537",
   "metadata": {},
   "source": [
    "## Пример 1.\n",
    "Задача:\n",
    "Вывести на экран является ли переменная положительной,\n",
    "отрицательной или равна нулю."
   ]
  },
  {
   "cell_type": "code",
   "execution_count": 1,
   "id": "8fe0d329",
   "metadata": {},
   "outputs": [
    {
     "name": "stdout",
     "output_type": "stream",
     "text": [
      "x положительный\n",
      "OK\n"
     ]
    }
   ],
   "source": [
    "x = 7\n",
    "if x < 0:\n",
    "    print(\"x отрицательный\")\n",
    "elif x == 0:\n",
    "    print(\"x равен нулю\")\n",
    "else:\n",
    "    print(\"x положительный\")\n",
    "print(\"OK\")"
   ]
  },
  {
   "cell_type": "markdown",
   "id": "b0a34cfa",
   "metadata": {},
   "source": [
    "## Задание 1.\n",
    "Задача:\n",
    "Напишите код. Задается х, напечатать какому из интервалов\n",
    "принадлежит: (-infinity, -5), [-5, 5] или от (5, +infinity)."
   ]
  },
  {
   "cell_type": "code",
   "execution_count": 2,
   "id": "935ad08f",
   "metadata": {},
   "outputs": [
    {
     "name": "stdout",
     "output_type": "stream",
     "text": [
      "[-5, 5]\n"
     ]
    }
   ],
   "source": [
    "x = 5\n",
    "if x < -5:\n",
    "    print(\"(-infinity, -5)\")\n",
    "elif -5 <= x <= 5:\n",
    "    print(\"[-5, 5]\")\n",
    "else:\n",
    "    print(\"(5, +infinity)\")"
   ]
  },
  {
   "cell_type": "markdown",
   "id": "b1d308bd",
   "metadata": {},
   "source": [
    "## Пример 2.\n",
    "Задача:\n",
    "Рассчитайте индекс массы тела ИМТ=вес/рост2.\n",
    "Выведите соответствующие сообщения ниже нормы, норма, выше\n",
    "нормы.\n",
    "Нормальное значение принадлежит диапазону от 18-25.\n",
    "Рост указывается в метрах 173 см = 1,73 м."
   ]
  },
  {
   "cell_type": "code",
   "execution_count": 4,
   "id": "6b6d80e3",
   "metadata": {},
   "outputs": [
    {
     "name": "stdout",
     "output_type": "stream",
     "text": [
      "Введите вес = 65\n",
      "Введите рост, м = 1.65\n",
      "Индекс массы тела | 23.88 |\n",
      "ИМТ в пределах нормы\n"
     ]
    }
   ],
   "source": [
    "weight = float(input(\"Введите вес = \"))\n",
    "height = float(input(\"Введите рост, м = \"))\n",
    "mass_index = weight/(height ** 2)\n",
    "print(\"Индекс массы тела\", \"|\", \"%.2f\"% mass_index, \"|\")\n",
    "\n",
    "if mass_index < 18:\n",
    "    print(\"ИМТ ниже нормы\")\n",
    "elif mass_index > 25:\n",
    "    print(\"ИМТ выше нормы\")\n",
    "else:\n",
    "    print(\"ИМТ в пределах нормы\")"
   ]
  },
  {
   "cell_type": "markdown",
   "id": "b19a5979",
   "metadata": {},
   "source": [
    "## Задание 2.\n",
    "Задача:\n",
    "Напишите программу определяющую является ли год високосным.\n",
    "Любой год, который делится на 4 без остатка, является високосным\n",
    "годом: например, 1988, 1992 и 1996 годы являются високосными годами.\n",
    "Тем не менее, есть еще небольшая ошибка, которая должна быть учтена.\n",
    "Чтобы устранить эту ошибку, григорианский календарь предусматривает,\n",
    "что год, который делится без остатка на 100 (например, 1900) является\n",
    "високосным годом только в том случае,\n",
    "если он также без остатка делится на 400.\n",
    "По этой причине следующие годы не являются високосными:\n",
    "1700, 1800, 1900, 2100, 2200, 2300, 2500, 2600."
   ]
  },
  {
   "cell_type": "code",
   "execution_count": 6,
   "id": "8502be09",
   "metadata": {},
   "outputs": [
    {
     "name": "stdout",
     "output_type": "stream",
     "text": [
      "1988\n",
      "Год високосный\n"
     ]
    }
   ],
   "source": [
    "x = int(input())\n",
    "\n",
    "if ((x % 100 != 0) and (x % 4 == 0)) or ((x % 4 == 0) and (x % 100 == 0) and (x % 400 == 0)):\n",
    "    print(\"Год високосный\")\n",
    "else:\n",
    "    print(\"Год не является високосным\")"
   ]
  },
  {
   "cell_type": "markdown",
   "id": "61c0a84f",
   "metadata": {},
   "source": [
    "## Теоретический материал – Тип данных список -list\n",
    "~~~\n",
    "В языке Python есть типы данных, которые представляют собой\n",
    "контейнеры, то есть, это типы данных, которые являют собой хранилища для\n",
    "других типов данных.\n",
    "Один из таких типов – list (список).\n",
    "Это контейнер, куда можно положить сколько угодно других\n",
    "переменных, значений, и эти переменные могут быть разных типов и могут\n",
    "быть контейнерами!\n",
    "То есть, в list можно положить list.\n",
    "Чтобы задать list, необходимо в квадратные скобки [] прописать\n",
    "элементы.\n",
    "Пустые скобки задают пустой список.\n",
    "Пустой список, также, можно задать, написав list().\n",
    "~~~"
   ]
  },
  {
   "cell_type": "markdown",
   "id": "ca00e9ca",
   "metadata": {},
   "source": [
    "## Пример 3.\n",
    "Задача:\n",
    "Задайте пустой список двумя способами.\n",
    "Убедитесь, что оба варианта создания пустого списка дают один\n",
    "результат. "
   ]
  },
  {
   "cell_type": "code",
   "execution_count": 7,
   "id": "aa6533e5",
   "metadata": {},
   "outputs": [
    {
     "name": "stdout",
     "output_type": "stream",
     "text": [
      "True\n"
     ]
    }
   ],
   "source": [
    "a = list()\n",
    "b = []\n",
    "print(a == b)"
   ]
  },
  {
   "cell_type": "markdown",
   "id": "bbf91dbb",
   "metadata": {},
   "source": [
    "Задача:\n",
    "Убедитесь, что список – это контейнер, куда можно положить сколько\n",
    "угодно переменных, значений, и эти переменные могут быть разных\n",
    "типов и могут быть контейнерами"
   ]
  },
  {
   "cell_type": "code",
   "execution_count": 8,
   "id": "3a540801",
   "metadata": {},
   "outputs": [
    {
     "data": {
      "text/plain": [
       "[2, 'a', [4, 'stroka', 6.56], {2, 3, 4, 5}]"
      ]
     },
     "execution_count": 8,
     "metadata": {},
     "output_type": "execute_result"
    }
   ],
   "source": [
    "c = [2, \"a\", [4, \"stroka\", 6.56], {5, 2, 3, 3, 4}]\n",
    "c"
   ]
  },
  {
   "cell_type": "markdown",
   "id": "f2664fda",
   "metadata": {},
   "source": [
    "## Задание 3.\n",
    "Задача:\n",
    "Создайте список содержащий повторяющиеся переменные следующих\n",
    "типов: int, str, None, float, list, set, bool. В set задать повторяющиеся\n",
    "элементы в порядке убывания. Вывести на печать, обосновать вывод set\n",
    "в списке"
   ]
  },
  {
   "cell_type": "code",
   "execution_count": 9,
   "id": "341167c7",
   "metadata": {},
   "outputs": [
    {
     "data": {
      "text/plain": [
       "[1,\n",
       " 2,\n",
       " 'a',\n",
       " 'b',\n",
       " None,\n",
       " None,\n",
       " [[], []],\n",
       " ['test', 234],\n",
       " {1, 2, 3, 4},\n",
       " {1},\n",
       " True,\n",
       " False]"
      ]
     },
     "execution_count": 9,
     "metadata": {},
     "output_type": "execute_result"
    }
   ],
   "source": [
    "l = [1, 2, \"a\", \"b\", None, None, [[],[]], [\"test\", 234], {1, 2, 3, 4}, {1, 1, 1}, True, False]\n",
    "l # set имеет только уникальные элементы"
   ]
  },
  {
   "cell_type": "markdown",
   "id": "732143d7",
   "metadata": {},
   "source": [
    "## Пример 4.\n",
    "Задача:\n",
    "Добавьте элемент в конец списка, используя метод .append(). Выведите\n",
    "на печать"
   ]
  },
  {
   "cell_type": "code",
   "execution_count": 10,
   "id": "3e9a3bd4",
   "metadata": {},
   "outputs": [
    {
     "data": {
      "text/plain": [
       "[2, 'a', [4, 'stroka', 6.56], {2, 3, 4, 5}, 4.67]"
      ]
     },
     "execution_count": 10,
     "metadata": {},
     "output_type": "execute_result"
    }
   ],
   "source": [
    "c_2 = [2, \"a\", [4, \"stroka\", 6.56], {5, 2, 3, 3, 4}]\n",
    "c_2.append(4.67)\n",
    "c_2"
   ]
  },
  {
   "cell_type": "markdown",
   "id": "df3ceac8",
   "metadata": {},
   "source": [
    "Удалите из списка последний элемент, используя метод .pop().\n",
    "Выведите на печать."
   ]
  },
  {
   "cell_type": "code",
   "execution_count": 11,
   "id": "842b2877",
   "metadata": {},
   "outputs": [
    {
     "data": {
      "text/plain": [
       "[2, 'a', [4, 'stroka', 6.56], {2, 3, 4, 5}]"
      ]
     },
     "execution_count": 11,
     "metadata": {},
     "output_type": "execute_result"
    }
   ],
   "source": [
    "c_2.pop()\n",
    "c_2"
   ]
  },
  {
   "cell_type": "markdown",
   "id": "c92fb80c",
   "metadata": {},
   "source": [
    "## Задание 4.\n",
    "Задача:\n",
    "Создайте список c_3 = [2, 'a', [4, 'stroka', 6.56], {5, 2, 3, 3, 4}],\n",
    "продемонстрируйте результат применения методов .append() и .pop().\n",
    "Результат [2, 'a', [4, 'stroka', 6.56], True]."
   ]
  },
  {
   "cell_type": "code",
   "execution_count": 12,
   "id": "bbac6c15",
   "metadata": {},
   "outputs": [
    {
     "data": {
      "text/plain": [
       "[2, 'a', [4, 'stroka', 6.56], True]"
      ]
     },
     "execution_count": 12,
     "metadata": {},
     "output_type": "execute_result"
    }
   ],
   "source": [
    "c_3 = [2, 'a', [4, 'stroka', 6.56], {5, 2, 3, 3, 4}]\n",
    "c_3.pop()\n",
    "c_3.append(True)\n",
    "c_3"
   ]
  },
  {
   "cell_type": "markdown",
   "id": "c9cd8099",
   "metadata": {},
   "source": [
    "## Теоретический материал – Методы list\n",
    "~~~\n",
    "Методы list, которые рассмотрим ниже, будут работать для всех\n",
    "итерируемых (iterable) контейнеров.\n",
    "Что значит итерируемый (iterable), можно прочитать по ссылке\n",
    "http://pythonz.net/references/named/iterable/\n",
    "Кратко – это объект, предоставляющий возможность поочерёдного\n",
    "прохода по своим элементам.\n",
    "Рассмотрим некоторые методы.\n",
    "~~~"
   ]
  },
  {
   "cell_type": "markdown",
   "id": "15f75bd3",
   "metadata": {},
   "source": [
    "## Пример 5.\n",
    "Задача:\n",
    "Получить доступ к элементам массива по индексам.\n",
    "Индексация начинается с 0"
   ]
  },
  {
   "cell_type": "code",
   "execution_count": 13,
   "id": "acf3434f",
   "metadata": {},
   "outputs": [
    {
     "name": "stdout",
     "output_type": "stream",
     "text": [
      "2\n",
      "[4, 'stroka', 6.56]\n",
      "{2, 3, 4, 5}\n"
     ]
    }
   ],
   "source": [
    "c = [2, \"a\", [4, \"stroka\", 6.56], {5, 2, 3, 3, 4}]\n",
    "print(c[0])\n",
    "print(c[2])\n",
    "print(c[-1])"
   ]
  },
  {
   "cell_type": "markdown",
   "id": "345fce60",
   "metadata": {},
   "source": [
    "Задача:\n",
    "Определить индекс элемента массива по значению."
   ]
  },
  {
   "cell_type": "code",
   "execution_count": 14,
   "id": "9a2d31bd",
   "metadata": {},
   "outputs": [
    {
     "data": {
      "text/plain": [
       "1"
      ]
     },
     "execution_count": 14,
     "metadata": {},
     "output_type": "execute_result"
    }
   ],
   "source": [
    "c.index(\"a\")"
   ]
  },
  {
   "cell_type": "markdown",
   "id": "bae9b392",
   "metadata": {},
   "source": [
    "Задача:\n",
    "Проверить принадлежность элемента массиву."
   ]
  },
  {
   "cell_type": "code",
   "execution_count": 15,
   "id": "a01e6e14",
   "metadata": {},
   "outputs": [
    {
     "data": {
      "text/plain": [
       "False"
      ]
     },
     "execution_count": 15,
     "metadata": {},
     "output_type": "execute_result"
    }
   ],
   "source": [
    "5 in c"
   ]
  },
  {
   "cell_type": "code",
   "execution_count": 16,
   "id": "903d3dda",
   "metadata": {},
   "outputs": [
    {
     "name": "stdout",
     "output_type": "stream",
     "text": [
      "element 'a' in c\n"
     ]
    }
   ],
   "source": [
    "if \"a\" in c:\n",
    "    print(\"element 'a' in c\")"
   ]
  },
  {
   "cell_type": "code",
   "execution_count": 17,
   "id": "172f90ff",
   "metadata": {},
   "outputs": [
    {
     "name": "stdout",
     "output_type": "stream",
     "text": [
      "[2, 'a', [4, 'stroka', 6.56], {2, 3, 4, 5}]\n",
      "[100500, 'a', [4, 'stroka', 6.56], {2, 3, 4, 5}]\n"
     ]
    }
   ],
   "source": [
    "print(c)\n",
    "c[0] = 100500\n",
    "print(c)"
   ]
  },
  {
   "cell_type": "code",
   "execution_count": 18,
   "id": "da582ae7",
   "metadata": {},
   "outputs": [
    {
     "data": {
      "text/plain": [
       "4"
      ]
     },
     "execution_count": 18,
     "metadata": {},
     "output_type": "execute_result"
    }
   ],
   "source": [
    "len(c)"
   ]
  },
  {
   "cell_type": "markdown",
   "id": "faa1a947",
   "metadata": {},
   "source": [
    "## Задание 5.\n",
    "Задача:\n",
    "Создайте список. Приведите примеры на перечисленные выше методы\n",
    "работы со списками."
   ]
  },
  {
   "cell_type": "code",
   "execution_count": 22,
   "id": "d6dfa123",
   "metadata": {},
   "outputs": [
    {
     "name": "stdout",
     "output_type": "stream",
     "text": [
      "[142, True, 3.0, None, 'avc']\n",
      "True\n",
      "4\n",
      "False\n",
      "[0, True, 3.0, None, 'avc']\n",
      "5\n"
     ]
    }
   ],
   "source": [
    "l = [142, True, 3.0, None, \"avc\"]\n",
    "print(l)\n",
    "print(l[1])\n",
    "print(l.index(\"avc\"))\n",
    "print(False in l)\n",
    "l[0] = 0\n",
    "print(l)\n",
    "print(len(l))"
   ]
  },
  {
   "cell_type": "markdown",
   "id": "068e0c1c",
   "metadata": {},
   "source": [
    "## Теоретический материал – Срезы\n",
    "Рассмотрим понятие среза, позволяющего быстро обрабатывать\n",
    "массивы данных.\n",
    "Можно не только получать по одному элементу массива, но и срез\n",
    "(слайс) – элементы массива с индексами между i (включительно) и j (не\n",
    "включительно)."
   ]
  },
  {
   "cell_type": "markdown",
   "id": "90ebb18a",
   "metadata": {},
   "source": [
    "## Пример 6.\n",
    "Задача:\n",
    "Задан массив. Создайте массив, содержащий элементы со второго по\n",
    "шестой"
   ]
  },
  {
   "cell_type": "code",
   "execution_count": 24,
   "id": "d5e2d288",
   "metadata": {},
   "outputs": [
    {
     "data": {
      "text/plain": [
       "[1, 2, 3, 4, 5]"
      ]
     },
     "execution_count": 24,
     "metadata": {},
     "output_type": "execute_result"
    }
   ],
   "source": [
    "c = [0, 1, 2, 3, 4, 5, 6, 7, 8, 9]\n",
    "d = c[1:6]\n",
    "d"
   ]
  },
  {
   "cell_type": "markdown",
   "id": "2ce16e76",
   "metadata": {},
   "source": [
    "Задача:\n",
    "Получить каждый k-й элемент массива c, начиная от элемента с\n",
    "индексом i (включительно) и заканчивая элементом с индексом j (не\n",
    "включительно)."
   ]
  },
  {
   "cell_type": "code",
   "execution_count": 26,
   "id": "b5d6926e",
   "metadata": {},
   "outputs": [
    {
     "data": {
      "text/plain": [
       "[1, 3, 5]"
      ]
     },
     "execution_count": 26,
     "metadata": {},
     "output_type": "execute_result"
    }
   ],
   "source": [
    "d = c[1:7:2]\n",
    "d"
   ]
  },
  {
   "cell_type": "markdown",
   "id": "f44c8d98",
   "metadata": {},
   "source": [
    "Задача:\n",
    "С помощью среза перевернуть массив."
   ]
  },
  {
   "cell_type": "code",
   "execution_count": 27,
   "id": "d62d9f45",
   "metadata": {},
   "outputs": [
    {
     "name": "stdout",
     "output_type": "stream",
     "text": [
      "[0, 1, 2, 3, 4, 5, 6, 7, 8, 9]\n",
      "[9, 8, 7, 6, 5, 4, 3, 2, 1, 0]\n"
     ]
    }
   ],
   "source": [
    "print(c)\n",
    "d = c[::-1]\n",
    "print(d)"
   ]
  },
  {
   "cell_type": "markdown",
   "id": "b30116f9",
   "metadata": {},
   "source": [
    "Задача:\n",
    "Например, необходимо получить каждый k-й элемент массива, начиная с\n",
    "элемента с индексом i (включительно) и заканчивая элементом с\n",
    "индексом j (не включительно), c шагом 3.\n",
    "Или переставить все элементы с право налево."
   ]
  },
  {
   "cell_type": "code",
   "execution_count": 28,
   "id": "7c6333b7",
   "metadata": {},
   "outputs": [
    {
     "name": "stdout",
     "output_type": "stream",
     "text": [
      "[2, 5, 8]\n",
      "[9, 8, 7, 6, 5, 4, 3, 2, 1]\n"
     ]
    }
   ],
   "source": [
    "a = [1, 2, 3, 4, 5, 6, 7, 8, 9]\n",
    "b = a[1:8:3]\n",
    "c = a[::-1]\n",
    "print(b)\n",
    "print(c)"
   ]
  },
  {
   "cell_type": "markdown",
   "id": "581f6371",
   "metadata": {},
   "source": [
    "## Задание 6.\n",
    "Задача:\n",
    "Создайте список. Приведите примеры срезов.\n",
    "Напишите код, который все элементы массива x с четными индексами\n",
    "переставит в обратном порядке. Т.е. если x = [0, 1, 2, 3, 4, 5, 6, 7, 8, 9], то\n",
    "код должен сформировать [8, 1, 6, 3, 4, 5, 2, 7, 0, 9]"
   ]
  },
  {
   "cell_type": "code",
   "execution_count": 38,
   "id": "15953e5c",
   "metadata": {},
   "outputs": [
    {
     "data": {
      "text/plain": [
       "[8, 1, 6, 3, 4, 5, 2, 7, 0, 9]"
      ]
     },
     "execution_count": 38,
     "metadata": {},
     "output_type": "execute_result"
    }
   ],
   "source": [
    "l = [0, 1, 2, 3, 4, 5, 6, 7, 8, 9]\n",
    "s = []\n",
    "\n",
    "for i in range(len(l)):\n",
    "    if i % 2 == 0 or i == 0:\n",
    "        s.append(l[-i - 2])\n",
    "    else:\n",
    "        s.append(l[i])\n",
    "s"
   ]
  },
  {
   "cell_type": "markdown",
   "id": "b3e1ad04",
   "metadata": {},
   "source": [
    "## Теоретический материал – Циклы\n",
    "~~~\n",
    "Циклы - for и while\n",
    "Цикл while проверяет истинность условия, и если условие истинно, то\n",
    "выполняет инструкции цикла.\n",
    "Синтаксис:\n",
    "while условие:\n",
    " инструкции\n",
    "Инструкции, которые относятся к циклу while, располагаются на\n",
    "последующих строках и должны иметь отступ от начала ключевого слова\n",
    "while.\n",
    "Цикл for проходит по набору значений, помещает каждое значение в\n",
    "переменную с которой в цикле можно производить различные действия.\n",
    "Синтаксис:\n",
    "for переменная in набор_значений:\n",
    " инструкции\n",
    "После ключевого слова for идет название переменной, в которую\n",
    "будут помещаться значения. После оператора in указывается набор значений\n",
    "и двоеточие. Инструкции, которые относятся к циклу, располагаются на\n",
    "последующих строках и должны иметь отступ.\n",
    "При создании цикла удобно пользоваться функцией range(a, b),\n",
    "которая создает последовательность чисел от a до b-1.\n",
    "~~~"
   ]
  },
  {
   "cell_type": "markdown",
   "id": "9777dd9e",
   "metadata": {},
   "source": [
    "## Пример 7.\n",
    "Задача:\n",
    "Вывести все числа от 1 до 10 с шагом 3."
   ]
  },
  {
   "cell_type": "code",
   "execution_count": 39,
   "id": "3060cfd9",
   "metadata": {},
   "outputs": [
    {
     "name": "stdout",
     "output_type": "stream",
     "text": [
      "1\n",
      "4\n",
      "7\n",
      "10\n"
     ]
    }
   ],
   "source": [
    "x = 1\n",
    "while x <= 10:\n",
    "    print(x)\n",
    "    x += 3"
   ]
  },
  {
   "cell_type": "markdown",
   "id": "888d2435",
   "metadata": {},
   "source": [
    "## Пример 8.\n",
    "Задача:\n",
    "Задан список. Напечатать все элементы списка."
   ]
  },
  {
   "cell_type": "code",
   "execution_count": 40,
   "id": "00f10c83",
   "metadata": {},
   "outputs": [
    {
     "name": "stdout",
     "output_type": "stream",
     "text": [
      "KNN\n",
      "decision tree\n",
      "linear model\n"
     ]
    }
   ],
   "source": [
    "models = [\"KNN\", \"decision tree\", \"linear model\"]\n",
    "for model in models:\n",
    "    print(model)"
   ]
  },
  {
   "cell_type": "markdown",
   "id": "12fcdfe5",
   "metadata": {},
   "source": [
    "## Пример 9.\n",
    "Задача:\n",
    "Создать список от 1 до 99 с шагом 7."
   ]
  },
  {
   "cell_type": "code",
   "execution_count": 41,
   "id": "c5a31eba",
   "metadata": {},
   "outputs": [
    {
     "name": "stdout",
     "output_type": "stream",
     "text": [
      "[1, 9, 17, 25, 33, 41, 49, 57, 65, 73, 81, 89, 97]\n"
     ]
    }
   ],
   "source": [
    "list_int = range(1, 100, 8)\n",
    "print(list(list_int))"
   ]
  },
  {
   "cell_type": "markdown",
   "id": "485b754b",
   "metadata": {},
   "source": [
    "## Пример 10.\n",
    "Задача:\n",
    "Вывести на экран числа от 5 до 105 с шагом 25, используя функцию\n",
    "range()"
   ]
  },
  {
   "cell_type": "code",
   "execution_count": 43,
   "id": "c142ee8a",
   "metadata": {},
   "outputs": [
    {
     "name": "stdout",
     "output_type": "stream",
     "text": [
      "5\n",
      "30\n",
      "55\n",
      "80\n",
      "105\n"
     ]
    }
   ],
   "source": [
    "for i in range(5, 106, 25):\n",
    "    print(i)"
   ]
  },
  {
   "cell_type": "markdown",
   "id": "222f4840",
   "metadata": {},
   "source": [
    "## Задание 7.\n",
    "Задача:\n",
    "Выведите числа из примера на while (пример 7) в обратном порядке."
   ]
  },
  {
   "cell_type": "code",
   "execution_count": 44,
   "id": "34d2da0f",
   "metadata": {},
   "outputs": [
    {
     "name": "stdout",
     "output_type": "stream",
     "text": [
      "10\n",
      "7\n",
      "4\n",
      "1\n"
     ]
    }
   ],
   "source": [
    "x = 10\n",
    "while x >= 1:\n",
    "    print(x)\n",
    "    x -= 3"
   ]
  },
  {
   "cell_type": "markdown",
   "id": "dfc72c9a",
   "metadata": {},
   "source": [
    "## Задание 8.\n",
    "Задача:\n",
    "При решении задач машинного обучения часто в качестве объектов\n",
    "исследования выступает человек. Создайте список значимых\n",
    "характеристик (признаков), идентифицирующих человека. Выведите\n",
    "список на экран. (Пример 8)."
   ]
  },
  {
   "cell_type": "code",
   "execution_count": 45,
   "id": "65ea202d",
   "metadata": {},
   "outputs": [
    {
     "name": "stdout",
     "output_type": "stream",
     "text": [
      "name\n",
      "age\n",
      "weight\n",
      "height\n"
     ]
    }
   ],
   "source": [
    "l = [\"name\", \"age\", \"weight\", \"height\"]\n",
    "for i in l:\n",
    "    print(i)"
   ]
  },
  {
   "cell_type": "markdown",
   "id": "bb61fd74",
   "metadata": {},
   "source": [
    "## Задание 9.\n",
    "Задача:\n",
    "Создать список чисел от 2 до 15 с шагом 1. (Пример 9)."
   ]
  },
  {
   "cell_type": "code",
   "execution_count": 46,
   "id": "1a2fce3e",
   "metadata": {},
   "outputs": [
    {
     "data": {
      "text/plain": [
       "[2, 3, 4, 5, 6, 7, 8, 9, 10, 11, 12, 13, 14]"
      ]
     },
     "execution_count": 46,
     "metadata": {},
     "output_type": "execute_result"
    }
   ],
   "source": [
    "l = []\n",
    "for i in range(2, 15, 1):\n",
    "    l.append(i)\n",
    "l"
   ]
  },
  {
   "cell_type": "markdown",
   "id": "c51896fd",
   "metadata": {},
   "source": [
    "## Задание 10.\n",
    "Задача:\n",
    "Выведите числа из примера на for c функцией range() (пример 10) в\n",
    "обратном порядке."
   ]
  },
  {
   "cell_type": "code",
   "execution_count": 48,
   "id": "d6fda06b",
   "metadata": {},
   "outputs": [
    {
     "name": "stdout",
     "output_type": "stream",
     "text": [
      "20\n",
      "19\n",
      "18\n",
      "17\n",
      "16\n",
      "15\n",
      "14\n",
      "13\n",
      "12\n",
      "11\n",
      "10\n"
     ]
    }
   ],
   "source": [
    "for i in range(20, 9, -1):\n",
    "    print(i)"
   ]
  },
  {
   "cell_type": "markdown",
   "id": "1dddf1be",
   "metadata": {},
   "source": [
    "## Задание 11.\n",
    "~~~\n",
    "Задача:\n",
    "Код Цезаря\n",
    "Одним из первых в истории примеров шифрования считаются\n",
    "закодированные послания Юлия Цезаря. Римскому полководцу\n",
    "необходимо было посылать письменные приказы своим генералам, но\n",
    "он не желал, чтобы в случае чего их прочитали недруги.\n",
    "В результате он стал шифровать свои послания довольно простым\n",
    "методом, который впоследствии стали называть кодом Цезаря.\n",
    "Идея шифрования была совершенно тривиальной и заключалась\n",
    "в циклическом сдвиге букв на три позиции.\n",
    "В итоге буква A превращалась в D, B – в E, C – в F и т. д.\n",
    "Последние три буквы алфавита переносились на начало.\n",
    "Таким образом, буква X становилась A, Y – B, а Z – C.\n",
    "Цифры и другие символы не подвергались шифрованию.\n",
    "Напишите программу, реализующую код Цезаря.\n",
    "Позвольте пользователю ввести фразу и количество символов для\n",
    "сдвига, после чего выведите результирующее сообщение. Убедитесь в\n",
    "том, что ваша программа шифрует как строчные, так и прописные\n",
    "буквы.\n",
    "Также, должна быть возможность указывать отрицательный\n",
    "сдвиг, чтобы можно было использовать вашу программу для\n",
    "расшифровки фраз.\n",
    "Замечание. Функция ord преобразует символ в целочисленную\n",
    "позицию в таблице ASCII. Функция chr возвращает символ в таблице\n",
    "ASCII по позиции, переданной в качестве аргумента.\n",
    "~~~"
   ]
  },
  {
   "cell_type": "code",
   "execution_count": 67,
   "id": "92bab56d",
   "metadata": {},
   "outputs": [
    {
     "name": "stdout",
     "output_type": "stream",
     "text": [
      "Зашифрованный текст: Khoor, Fdhvhu!\n"
     ]
    }
   ],
   "source": [
    "def caesar_cipher(text, shift):\n",
    "    result = \"\"\n",
    "    \n",
    "    # Перебираем каждый символ в тексте\n",
    "    for char in text:\n",
    "        # Проверяем, является ли символ буквой\n",
    "        if char.isalpha():\n",
    "            # Определяем, в каком регистре находится буква (верхний или нижний)\n",
    "            if char.islower():\n",
    "                # Вычисляем новый индекс символа в алфавите с учетом сдвига\n",
    "                new_char = chr(((ord(char) - ord('a') + shift) % 26) + ord('a'))\n",
    "            elif char.isupper():\n",
    "                new_char = chr(((ord(char) - ord('A') + shift) % 26) + ord('A'))\n",
    "        else:\n",
    "            # Если символ не является буквой, оставляем его без изменений\n",
    "            new_char = char\n",
    "        \n",
    "        # Добавляем новый символ к результату\n",
    "        result += new_char\n",
    "    \n",
    "    return result\n",
    "\n",
    "# Пример использования\n",
    "text = \"Hello, Caeser!\"\n",
    "shift = 3\n",
    "encrypted_text = caesar_cipher(text, shift)\n",
    "print(\"Зашифрованный текст:\", encrypted_text)"
   ]
  },
  {
   "cell_type": "markdown",
   "id": "481fa67c",
   "metadata": {},
   "source": [
    "## Задание 12.\n",
    "~~~\n",
    "Задача:\n",
    "Палиндром или нет?\n",
    "Строка называется палиндромом, если она пишется одинаково в\n",
    "обоих направлениях.\n",
    "Например, палиндромами в английском языке являются слова\n",
    "«anna», «civic», «level», «hannah».\n",
    "Напишите программу, запрашивающую у пользователя строку и\n",
    "при помощи цикла определяющую, является ли она палиндромом.\n",
    "(Код желательно в количестве примерно 30 строк).\n",
    "Примечание.\n",
    "Яибофобия (Aibohphobia) – это безрассудный страх палиндромов.\n",
    "Эти слова в русском и английском сами по себе являются\n",
    "палиндромами, что и привело к их образованию.\n",
    "Напротив, яилифилия (ailihphilia) характеризуется любовью к\n",
    "палиндромам. Объяснять образование этого слова нет нужды).\n",
    "~~~"
   ]
  },
  {
   "cell_type": "code",
   "execution_count": 65,
   "id": "08c8ba6e",
   "metadata": {},
   "outputs": [
    {
     "name": "stdout",
     "output_type": "stream",
     "text": [
      "Это палиндром.\n"
     ]
    }
   ],
   "source": [
    "def is_palindrome(s):\n",
    "    # Удаляем пробелы и приводим строку к нижнему регистру\n",
    "    s = s.replace(\" \", \"\").lower()\n",
    "    \n",
    "    # Сравниваем строку с ее обратным отражением\n",
    "    return s == s[::-1]\n",
    "\n",
    "# Пример использования\n",
    "input_string = \"А роза упала на лапу Азора\"\n",
    "if is_palindrome(input_string):\n",
    "    print(\"Это палиндром.\")\n",
    "else:\n",
    "    print(\"Это не палиндром.\")"
   ]
  },
  {
   "cell_type": "code",
   "execution_count": null,
   "id": "d8ba47d5",
   "metadata": {},
   "outputs": [],
   "source": []
  }
 ],
 "metadata": {
  "kernelspec": {
   "display_name": "Python 3 (ipykernel)",
   "language": "python",
   "name": "python3"
  },
  "language_info": {
   "codemirror_mode": {
    "name": "ipython",
    "version": 3
   },
   "file_extension": ".py",
   "mimetype": "text/x-python",
   "name": "python",
   "nbconvert_exporter": "python",
   "pygments_lexer": "ipython3",
   "version": "3.11.4"
  }
 },
 "nbformat": 4,
 "nbformat_minor": 5
}
