{
 "cells": [
  {
   "cell_type": "markdown",
   "id": "46363a9e",
   "metadata": {},
   "source": [
    "## Задание 1.\n",
    "Иван – оригинальный человек. Он решил создать класс Иван, принимающий при инициализации 2 параметра: имя и возраст. Но на этом он не успокоился. Не важно, какое имя передаст пользователь при создании экземпляра, оно всегда будет содержать Николая. В частности - если пользователя на самом деле зовут Николаем, то с именем ничего не произойдет, а если его зовут, например, Максим, то оно преобразуется в Я не Максим, а Николай.\n",
    "\n",
    "Более того, никаких других атрибутов и методов у экземпляра не может быть добавлено, даже если кто-то и вздумает так поступить (т.е. если некий пользователь решит прибавить к экземпляру свойство отчество или метод приветствие, то ничего у такого хитреца не получится)."
   ]
  },
  {
   "cell_type": "code",
   "execution_count": 7,
   "id": "89193248",
   "metadata": {},
   "outputs": [
    {
     "name": "stdout",
     "output_type": "stream",
     "text": [
      "Я не Максим, а Николай\n"
     ]
    }
   ],
   "source": [
    "class Ivan:\n",
    "    __slots__ = [\"name\", \"age\"] #Запрещает создание атрибутов\n",
    "    def __init__(self, name = \"Николай\", age = 0):\n",
    "        self.name = name\n",
    "        self.age = age\n",
    "        if self.name != \"Николай\":\n",
    "            self.name = f\"Я не {self.name}, а Николай\"\n",
    "\n",
    "a = Ivan(\"Максим\")\n",
    "print(a.name)"
   ]
  },
  {
   "cell_type": "markdown",
   "id": "b6165fa3",
   "metadata": {},
   "source": [
    "## Задание 2.\n",
    "Саша создала класс KgToPounds с параметром kg, куда передается определенное количество килограмм, а с помощью метода to_pounds() они переводятся в фунты. Чтобы закрыть доступ к переменной kg она реализовала методы set_kg() - для задания нового значения килограммов, get_kg() - для вывода текущего значения кг. Из-за этого возникло неудобство: нам нужно теперь использовать эти 2 метода для задания и вывода значений. Помогите ей переделать класс с использованием функции property() и свойств-декораторов. Код приведен ниже."
   ]
  },
  {
   "cell_type": "code",
   "execution_count": 5,
   "id": "7fa60fd2",
   "metadata": {},
   "outputs": [],
   "source": [
    "class KgToPounds:\n",
    "\n",
    "    def __init__(self, kg):\n",
    "        self.__kg = kg\n",
    "\n",
    "    def to_pounds(self):\n",
    "        return self.__kg * 2.205\n",
    "\n",
    "    def set_kg(self, new_kg):\n",
    "        if isinstance(new_kg, (int, float)):\n",
    "            self.__kg = new_kg\n",
    "        else:\n",
    "            raise ValueError('Килограммы задаются только числами')\n",
    "\n",
    "    def get_kg(self):\n",
    "        return self.__kg"
   ]
  },
  {
   "cell_type": "code",
   "execution_count": 8,
   "id": "6038f602",
   "metadata": {},
   "outputs": [
    {
     "name": "stdout",
     "output_type": "stream",
     "text": [
      "4.41\n"
     ]
    }
   ],
   "source": [
    "class KgToPounds:\n",
    "\n",
    "    def __init__(self, kg = 0):\n",
    "        self.__kg = kg\n",
    "\n",
    "    @property\n",
    "    def kgp(self):\n",
    "        return self.__kg * 2.205\n",
    "\n",
    "    @kgp.setter\n",
    "    def kgp(self, new_kg):\n",
    "        if isinstance(new_kg, (int, float)):\n",
    "            self.__kg = new_kg\n",
    "        else:\n",
    "            raise ValueError('Килограммы задаются только числами')\n",
    "\n",
    "a = KgToPounds()\n",
    "a.kgp = 2\n",
    "print(a.kgp)"
   ]
  },
  {
   "cell_type": "markdown",
   "id": "192ec36d",
   "metadata": {},
   "source": [
    "## Задание 3.\n",
    "Требуется проверить, возможно ли из представленных отрезков условной длины сформировать треугольник. Для этого создайте класс TriangleChecker, принимающий только положительные числа. С помощью метода is_triangle() возвращаются следующие значения (в зависимости от ситуации):\n",
    "\n",
    "1)Ура, можно построить треугольник!\n",
    "\n",
    "2)С отрицательными числами ничего не выйдет!\n",
    "\n",
    "3)Жаль, но из этого треугольник не сделать."
   ]
  },
  {
   "cell_type": "code",
   "execution_count": 9,
   "id": "d2db8d6e",
   "metadata": {},
   "outputs": [
    {
     "name": "stdout",
     "output_type": "stream",
     "text": [
      "Жаль, но из этого треугольник не сделать.\n",
      "Ура, можно построить треугольник!\n",
      "С отрицательными числами ничего не выйдет!\n"
     ]
    }
   ],
   "source": [
    "class TriangleChecker:\n",
    "\n",
    "    def __init__(self, a, b, c):\n",
    "        self.a = a\n",
    "        self.b = b\n",
    "        self.c = c\n",
    "\n",
    "    def is_triangle(self):\n",
    "        if self.a > 0 and self.b > 0 and self.c > 0:\n",
    "\n",
    "            m = max(self.a, self.b, self.c)\n",
    "\n",
    "            s = (self.a + self.b + self.c)\n",
    "\n",
    "            if (s - m) > m:\n",
    "                print(\"Ура, можно построить треугольник!\")\n",
    "            else:\n",
    "                print(\"Жаль, но из этого треугольник не сделать.\")\n",
    "        else:\n",
    "            print(\"С отрицательными числами ничего не выйдет!\")\n",
    "\n",
    "a = TriangleChecker(1, 1, 10)\n",
    "a.is_triangle()\n",
    "a = TriangleChecker(4, 3, 5)\n",
    "a.is_triangle()\n",
    "a = TriangleChecker(7, -4, 20)\n",
    "a.is_triangle()"
   ]
  },
  {
   "cell_type": "markdown",
   "id": "ff3e895f",
   "metadata": {},
   "source": [
    "## Задание 4\n",
    "Описание классовой структуры:\n",
    "Есть Человек, характеристиками которого являются:\n",
    "1. Имя\n",
    "2. Возраст\n",
    "3. Наличие денег\n",
    "4. Наличие собственного жилья\n",
    "\n",
    "Человек может:\n",
    "1. Предоставить информацию о себе\n",
    "2. Заработать деньги\n",
    "3. Купить дом\n",
    "\n",
    "Также же есть Дом, к свойствам которого относятся:\n",
    "1. Площадь\n",
    "2. Стоимость\n",
    "\n",
    "Для Дома можно:\n",
    "1. Применить скидку на покупку\n",
    "\n",
    "Также есть Небольшой Типовой Дом, обязательной площадью 40м2.\n",
    "\n",
    "### Задание\n",
    "4.1 Класс Human\n",
    "1. Создайте класс Human.\n",
    "2. Определите для него два статических атрибута: default_name и default_age.\n",
    "3. Создайте метод __init__(), который помимо self принимает еще два параметра: name и age. Для этих параметров задайте значения по умолчанию, используя атрибута default_name и default_age. В методе __init__() определите четыре атрибута: Публичные - name и age. Приватные - money и house.\n",
    "4. Реализуйте справочный метод info(), который будет выводить поля name, age, house и money.\n",
    "5. Реализуйте справочный статический метод default_info(), который будет выводить статические атрибуты default_name и default_age.\n",
    "6. Реализуйте приватный метод make_deal(), который будет отвечать за техническую реализацию покупки дома: уменьшать количество денег на счету и присваивать ссылку на только что купленный дом. В качестве аргументов данный метод принимает объект дома и его цену.\n",
    "7. Реализуйте метод earn_money(), увеличивающий значение свойства money.\n",
    "8. Реализуйте метод buy_house(), который будет проверять, что у человека достаточно денег для покупки, и совершать сделку. Если денег слишком мало - нужно вывести предупреждение в консоль. Параметры метода: ссылка на дом и размер скидки\n",
    "\n",
    "4.2. Класс House\n",
    "1. Создайте класс House\n",
    "2. Создайте метод __init__() и определите внутри него два атрибута: _area и _price. Свои начальные значения они получают из параметров метода __init__()\n",
    "3. Создайте метод final_price(), который принимает в качестве параметра размер скидки и возвращает цену с учетом данной скидки.\n",
    "\n",
    "Класс SmallHouse\n",
    "1. Создайте класс SmallHouse, унаследовав его функционал от класса House\n",
    "2. Внутри класса SmallHouse переопределите метод __init__() так, чтобы он создавал объект с площадью 40м2"
   ]
  },
  {
   "cell_type": "code",
   "execution_count": 4,
   "id": "8e3354cb",
   "metadata": {},
   "outputs": [
    {
     "name": "stdout",
     "output_type": "stream",
     "text": [
      "Имя: Иван\n",
      "Возвраст: 20\n",
      "Счет: 82.0\n",
      "Недвижимость: Площадь 40м2\n"
     ]
    }
   ],
   "source": [
    "# Недвижимость\n",
    "class Home:\n",
    "    def __init__(self, area=\"50м2\", price=100): # Инициализация area и price\n",
    "        self._area = area\n",
    "        self._price = price\n",
    "\n",
    "    def final_price(self, discount): # Расчет цены с учетом скидки\n",
    "        return self._price - (self._price / 100 * discount)\n",
    "    \n",
    "class Smallhome(Home):\n",
    "    def __init__(self, price=50): # Инициализация area и price, но area обязательно 40м2. \n",
    "        self._area = \"40м2\"\n",
    "        self._price = price\n",
    "\n",
    "# Человек      \n",
    "class Human:\n",
    "    default_name = \"Неизвестно\" # Начальное имя и возвраст\n",
    "    default_age = \"Неизвестно\"\n",
    "\n",
    "    def __init__(self, name=default_name, age=default_age): # Инициализация public имени и возвраст, private средства и дома \n",
    "        self.name = name\n",
    "        self.age = age\n",
    "        self.__money = 0\n",
    "        self.__home = \"Нет\"\n",
    "\n",
    "    def info(self): # Вывод всех переменых\n",
    "        print(f\"Имя: {self.name}\\nВозвраст: {self.age}\\nСчет: {self.__money}\\nНедвижимость: {self.__home}\")\n",
    "\n",
    "    def default_info(self): # Вывод начального имени и возвраста\n",
    "        print(f\"Начальное имя: {self.default_name}\\nНачальный возвраст: {self.default_age}\")\n",
    "\n",
    "    def earn_money(self): # Увеличение средств\n",
    "        self.__money += 100\n",
    "\n",
    "    def __buy_house(self, price): # приватный метод, проверяющий возможность покупки недвижимости\n",
    "        if self.__money >= price:\n",
    "            return (\"Yes\")\n",
    "        else:\n",
    "            return (\"No\")\n",
    "\n",
    "    def make_deal(self, dom, discount): # покупка недвижимости\n",
    "        if Human.__buy_house(self, dom.final_price(discount)) == \"Yes\": # Проверка удачна\n",
    "            self.__money -= dom.final_price(discount) # Снятие денег со счета с учетом скидки\n",
    "            self.__home = f\"Площадь {dom._area}\" # Измененение статуса жилья\n",
    "        else:\n",
    "            print(\"Недостаточно средств\") # Проверка провалена\n",
    "\n",
    "# Создание экзепляров\n",
    "dom1 = Home(\"60м2\", 100)\n",
    "sdom1 = Smallhome(20)\n",
    "ivan = Human(\"Иван\", 20)\n",
    "# Действия\n",
    "ivan.earn_money()\n",
    "ivan.make_deal(sdom1, 10)\n",
    "\n",
    "ivan.info()"
   ]
  },
  {
   "cell_type": "code",
   "execution_count": null,
   "id": "fcb3dae2",
   "metadata": {},
   "outputs": [],
   "source": []
  }
 ],
 "metadata": {
  "kernelspec": {
   "display_name": "Python 3 (ipykernel)",
   "language": "python",
   "name": "python3"
  },
  "language_info": {
   "codemirror_mode": {
    "name": "ipython",
    "version": 3
   },
   "file_extension": ".py",
   "mimetype": "text/x-python",
   "name": "python",
   "nbconvert_exporter": "python",
   "pygments_lexer": "ipython3",
   "version": "3.11.3"
  }
 },
 "nbformat": 4,
 "nbformat_minor": 5
}
