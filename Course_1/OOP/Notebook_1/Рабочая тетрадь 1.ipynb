{
 "cells": [
  {
   "cell_type": "markdown",
   "metadata": {
    "id": "j9GIFuqiHeIA"
   },
   "source": [
    "## Задание №1.\n",
    "*Приведите примеры императивных языков и обоснуйте свой\n",
    "выбор.*\n",
    "\n",
    "1) Pascal\n",
    "2) Языки C\n",
    "3) Ассемблер\n",
    "\n",
    "Код читается последовательно. Код является последовательностью \"приказов\". Данные записываются в память и читаются при необходимости во время работы кода."
   ]
  },
  {
   "cell_type": "markdown",
   "metadata": {},
   "source": [
    "## Задание №2. \n",
    "\n",
    "Определите базовый класс Animal, который представляет\n",
    "животное и который содержит две приватные переменные: строку для\n",
    "хранения имени животного и целое число для хранения веса животного. Также\n",
    "определите общедоступную функцию print, которая выводит на консоль\n",
    "сообщение с указанием имени и веса объекта Animal."
   ]
  },
  {
   "cell_type": "code",
   "execution_count": 1,
   "metadata": {},
   "outputs": [
    {
     "name": "stdout",
     "output_type": "stream",
     "text": [
      "Name - Garfield\n",
      "Weight - 10\n"
     ]
    }
   ],
   "source": [
    "class Animal:\n",
    "    name = \"Garfield\"\n",
    "    weight = 10\n",
    "\n",
    "    def say(self):\n",
    "        print(f\"Name - {self.name}\\nWeight - {self.weight}\")\n",
    "\n",
    "animal = Animal()\n",
    "animal.say()"
   ]
  },
  {
   "cell_type": "markdown",
   "metadata": {},
   "source": [
    "## Задание №3. \n",
    "Создайте два производных класса Cat (кошка) и Dog (собака),\n",
    "которые наследуются от класса Animal. В функции main создайте несколько\n",
    "объектов типа Cat и Dog и с помощью функции print выведите информацию об\n",
    "этих объектах на консоль."
   ]
  },
  {
   "cell_type": "code",
   "execution_count": 7,
   "metadata": {},
   "outputs": [
    {
     "name": "stdout",
     "output_type": "stream",
     "text": [
      "It's a dog, Animal\n",
      "Name - John\n",
      "Weight - 12\n",
      "It's a cat, Animal\n",
      "Name - Jessie\n",
      "Weight - 6\n"
     ]
    }
   ],
   "source": [
    "class Animal:\n",
    "\n",
    "    def __init__(self):\n",
    "        self.type = \"Animal\"\n",
    "        \n",
    "class Cat(Animal):\n",
    "    def say(self, name, weight):\n",
    "        print(f\"It's a cat, {self.type}\")\n",
    "        print(f\"Name - {name}\\nWeight - {weight}\")\n",
    "\n",
    "class Dog(Animal):\n",
    "    def say(self, name, weight):\n",
    "        print(f\"It's a dog, {self.type}\")\n",
    "        print(f\"Name - {name}\\nWeight - {weight}\")\n",
    "\n",
    "d1 = Dog()\n",
    "c1 = Cat()\n",
    "\n",
    "d1.say(\"John\", 12)\n",
    "c1.say(\"Jessie\", 6)"
   ]
  },
  {
   "cell_type": "markdown",
   "metadata": {},
   "source": [
    "## Задание №4. \n",
    "Представлен код, описывающий класс «Кошелек», и создающий\n",
    "его экземпляр, который может хранить монеты различного номинала.\n",
    "Необходимо написать код, который добавит 3 монеты по 5 единиц и одну\n",
    "монету в 10 единиц в созданный кошелек. В первой строке необходимо указать\n",
    "язык программирования, на котором вы предоставляете ответ."
   ]
  },
  {
   "cell_type": "code",
   "execution_count": 9,
   "metadata": {},
   "outputs": [],
   "source": [
    "# Python\n",
    "class Wallet:\n",
    "    def __init__(self) -> None:\n",
    "        self.coins = []\n",
    "    def addCoint(self, coin) -> None:\n",
    "        self.coins.append(coin)\n",
    "wallet = Wallet()\n",
    "# Место для кода"
   ]
  },
  {
   "cell_type": "code",
   "execution_count": 10,
   "metadata": {},
   "outputs": [
    {
     "name": "stdout",
     "output_type": "stream",
     "text": [
      "[5, 5, 5, 10]\n"
     ]
    }
   ],
   "source": [
    "class Wallet:\n",
    "\n",
    "    def __init__(self) -> None:\n",
    "        self.coins = []\n",
    "\n",
    "    def addCoint(self, coin) -> None:\n",
    "        self.coins.append(coin)\n",
    "\n",
    "\n",
    "wallet = Wallet()\n",
    "\n",
    "wallet.addCoint(5) # 1 монета с 5 единиц\n",
    "wallet.addCoint(5) # 2 монета с 5 единиц\n",
    "wallet.addCoint(5) # 3 монета с 5 единиц\n",
    "wallet.addCoint(10) # 1 монета с 10 единиц\n",
    "\n",
    "print(wallet.coins) # Содержимое кошелька"
   ]
  },
  {
   "cell_type": "code",
   "execution_count": null,
   "metadata": {},
   "outputs": [],
   "source": []
  }
 ],
 "metadata": {
  "colab": {
   "provenance": []
  },
  "kernelspec": {
   "display_name": "Python 3 (ipykernel)",
   "language": "python",
   "name": "python3"
  },
  "language_info": {
   "codemirror_mode": {
    "name": "ipython",
    "version": 3
   },
   "file_extension": ".py",
   "mimetype": "text/x-python",
   "name": "python",
   "nbconvert_exporter": "python",
   "pygments_lexer": "ipython3",
   "version": "3.11.4"
  }
 },
 "nbformat": 4,
 "nbformat_minor": 1
}
