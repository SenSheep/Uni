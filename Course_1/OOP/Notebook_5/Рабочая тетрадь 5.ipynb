{
 "cells": [
  {
   "cell_type": "markdown",
   "id": "07559d73",
   "metadata": {},
   "source": [
    "# Баранов Арсений Юрьевич БФБО-05-23"
   ]
  },
  {
   "cell_type": "markdown",
   "id": "f511f38d",
   "metadata": {},
   "source": [
    "## Теоритический материал\n",
    "### Полиморфизм\n",
    "Помним, что в ООП все программы состоят из объектов. Однако, у разных на вид\n",
    "объектов может быть одинаковый интерфейс — некоторые общие методы, которые они\n",
    "выполняют каждый по-своему. Например, у объектов «веролёт» и «космический корабль»\n",
    "общим методом будет «летать».\n",
    "\n",
    "Полиморфизм даёт возможность использовать одни и те же методы для объектов\n",
    "разных классов. Неважно, как эти объекты устроены, в ООП мы можем приказать\n",
    "вертолёту и космическому кораблю: «Лети». И они будут делать это как умеют: вертолёт\n",
    "закрутит лопастями, а космический корабль запустит ракетный двигатель.\n",
    "\n",
    "Полиморфизм упрощенно можно рассматривать как аналогию работы диспетчера\n",
    "в аэропорту. Ему неважно, какую топливную систему предусмотрел авиаконструктор и как\n",
    "работает система форсажа — он просто даёт команду: «Взлёт разрешаю». После этого\n",
    "на лайнере начинают происходить определенные для данного типа летательного аппарата\n",
    "внутренние процессы, на которые диспетчер уже не влияет.\n",
    "\n",
    "Минутка семантики (раздел лингвистики, изучающий смысловое значение единиц\n",
    "языка). Слово «полиморфизм» переводится с греческого как «многоформенность». Смысл\n",
    "в том, что один и тот же метод может воплощаться по-разному — например, как полёт\n",
    "у дрона и самолёта.\n"
   ]
  },
  {
   "cell_type": "markdown",
   "id": "935c986e",
   "metadata": {},
   "source": [
    "## Задача 1.\n",
    "Необходимо реализовать функционал «Добавить в корзину» для онлайн-магазина\n",
    "для реализуемых товаров: например, ноутбуки, стилусы, планшеты.\n",
    "Задача: написать код, используя принцип полиморфизма, и сделать так, чтобы все\n",
    "товары можно было складывать в корзину и сайт каждый раз автоматически выдавал\n",
    "покупателю сообщение: «Товар такой-то добавлен в корзину»."
   ]
  },
  {
   "cell_type": "code",
   "execution_count": 7,
   "id": "187c4427",
   "metadata": {},
   "outputs": [
    {
     "name": "stdout",
     "output_type": "stream",
     "text": [
      "Введите название товара или окончания покупок 'Выход' или для проверки корзины 'Список' Планшет\n",
      "Введите название Asus\n",
      "Введите цвет Черный\n",
      "Введите цену 1000\n",
      "Вы добавили Планшет\n",
      "\n",
      "Введите название товара или окончания покупок 'Выход' или для проверки корзины 'Список' Список\n",
      "Товар 1\n",
      "Название товара: Asus\n",
      "Цвет товара: Черный\n",
      "Тип товара: Планшет\n",
      "Цена товара 1000\n",
      "Сумма корзины 1000\n",
      "Введите название товара или окончания покупок 'Выход' или для проверки корзины 'Список' Выход\n"
     ]
    }
   ],
   "source": [
    "class Bucket:\n",
    "    def __init__(self):\n",
    "        self.list = []\n",
    "\n",
    "    def add(self, tovar):\n",
    "        self.list.append(tovar)\n",
    "        print(f\"Вы добавили {tovar.kind}\")\n",
    "        print()\n",
    "\n",
    "class Laptop:\n",
    "    def __init__(self, name, color, price):\n",
    "        self.name = name\n",
    "        self.color = color\n",
    "        self.price = int(price)\n",
    "        self.kind = \"Ноутбук\"\n",
    "\n",
    "    def info(self):\n",
    "        print(f\"Название товара: {self.name}\")\n",
    "        print(f\"Цвет товара: {self.color}\")\n",
    "        print(f\"Тип товара: {self.kind}\")\n",
    "        print(f\"Цена товара {self.price}\")\n",
    "\n",
    "class Stilus:\n",
    "    def __init__(self, name, color, price):\n",
    "        self.name = name\n",
    "        self.color = color\n",
    "        self.price = int(price)\n",
    "        self.kind = \"Стилус\"\n",
    "\n",
    "    def info(self):\n",
    "        print(f\"Название товара {self.name}\")\n",
    "        print(f\"Цвет товара {self.color}\")\n",
    "        print(f\"Тип товара {self.kind}\")\n",
    "        print(f\"Цена товара {self.price}\")\n",
    "\n",
    "class Tablet:\n",
    "    def __init__(self, name, color, price):\n",
    "        self.name = name\n",
    "        self.color = color\n",
    "        self.price = int(price)\n",
    "        self.kind = \"Планшет\"\n",
    "\n",
    "    def info(self):\n",
    "        print(f\"Название товара: {self.name}\")\n",
    "        print(f\"Цвет товара: {self.color}\")\n",
    "        print(f\"Тип товара: {self.kind}\")\n",
    "        print(f\"Цена товара {self.price}\")\n",
    "\n",
    "# Для покупателя\n",
    "my_bucket = Bucket()\n",
    "s = \"\"\n",
    "while s != \"Выход\":\n",
    "    s = input(\"Введите название товара или окончания покупок 'Выход' или для проверки корзины 'Список' \")\n",
    "    if s == \"Ноутбук\":\n",
    "        x1 = input(\"Введите название \")\n",
    "        x2 = input(\"Введите цвет \")\n",
    "        x3 = input(\"Введите цену \")\n",
    "        my_bucket.add(Laptop(x1, x2, x3))\n",
    "    elif s == \"Стилус\":\n",
    "        x1 = input(\"Введите название \")\n",
    "        x2 = input(\"Введите цвет \")\n",
    "        x3 = input(\"Введите цену \")\n",
    "        my_bucket.add(Stilus(x1, x2, x3))\n",
    "    elif s == \"Планшет\":\n",
    "        x1 = input(\"Введите название \")\n",
    "        x2 = input(\"Введите цвет \")\n",
    "        x3 = input(\"Введите цену \")\n",
    "        my_bucket.add(Tablet(x1, x2, x3))\n",
    "    elif s == \"Список\":\n",
    "        i = 1\n",
    "        su = 0\n",
    "        for pro in my_bucket.list: # Полиморфизм\n",
    "            print(f\"Товар {i}\")\n",
    "            pro.info()\n",
    "            su = su + pro.price\n",
    "            i += 1\n",
    "        if i == 1:\n",
    "            print(\"Список пуст\")\n",
    "        else:\n",
    "            print(f\"Сумма корзины {su}\")\n",
    "    elif s != \"Выход\":\n",
    "        print(\"Неверный ввод, повторите\")"
   ]
  },
  {
   "cell_type": "markdown",
   "id": "55db0e54",
   "metadata": {},
   "source": [
    "## Задача 2 (Скучно)\n",
    "В данной задаче обязательно написание комментариев к строкам кода.\n",
    "Придумайте свою задачу, в которой можно было бы продемонстрировать 2 из\n",
    "изученных принципа ООП (полиморфизм и наследование) и реализуйте её на Питоне."
   ]
  },
  {
   "cell_type": "code",
   "execution_count": 6,
   "id": "cb2516c6",
   "metadata": {},
   "outputs": [
    {
     "name": "stdout",
     "output_type": "stream",
     "text": [
      "Гав!\n",
      "Мяу!\n"
     ]
    }
   ],
   "source": [
    "class Animal:\n",
    "    def speak(self):\n",
    "        return None\n",
    "\n",
    "class Dog(Animal): # Использования наследования\n",
    "    def speak(self):\n",
    "        return \"Гав!\"\n",
    "\n",
    "class Cat(Animal): # Использования наследования\n",
    "    def speak(self):\n",
    "        return \"Мяу!\"\n",
    "\n",
    "# Использование полиморфизма\n",
    "animals = [Dog(), Cat()]\n",
    "\n",
    "for animal in animals:\n",
    "    print(animal.speak())"
   ]
  },
  {
   "cell_type": "markdown",
   "id": "333a9a33",
   "metadata": {},
   "source": [
    "## Задача 3\n",
    "В данной задаче обязательно написание комментариев к строкам кода.\n",
    "Придумайте свою задачу, где:\n",
    "\n",
    "А) будут реализованы:\n",
    "- родительский и дочерние классы,\n",
    "- статические и динамические атрибуты классов (помним: суть в том, что для работы\n",
    "со статическим атрибутом не нужно создавать экземпляр класса, а для работы с\n",
    "динамическим – нужно);"
   ]
  },
  {
   "cell_type": "code",
   "execution_count": 4,
   "id": "d6efea31",
   "metadata": {},
   "outputs": [],
   "source": [
    "class Rod:\n",
    "    static = \"statRod\"\n",
    "\n",
    "    def __init__(self):\n",
    "        self.dynamic = \"dynRod\"\n",
    "\n",
    "class Doch(Rod):\n",
    "    static = \"statDoch\"\n",
    "\n",
    "    def __init__(self):\n",
    "        self.dynamic = \"dynDoch\"\n",
    "\n",
    "exaR = Rod() # Экзепляр класса Rod\n",
    "exaD = Doch() # Экзепляр класса Doch"
   ]
  },
  {
   "cell_type": "markdown",
   "id": "6c924bcc",
   "metadata": {},
   "source": [
    "Б) \n",
    "Продемонстрировать кодом и выводом, что будет происходить, если обратиться к статическому атрибуту:\n",
    "\n",
    "напрямую через экземпляр класса, не меняя атрибут, и\n",
    "если поменять статический атрибут"
   ]
  },
  {
   "cell_type": "code",
   "execution_count": 5,
   "id": "e2357ef8",
   "metadata": {},
   "outputs": [
    {
     "name": "stdout",
     "output_type": "stream",
     "text": [
      "statRod\n",
      "newstatRod\n",
      "-----------\n",
      "statDoch\n",
      "newstatDoch\n"
     ]
    }
   ],
   "source": [
    "print(exaR.static)\n",
    "exaR.static = \"newstatRod\"\n",
    "print(exaR.static)\n",
    "print(\"-----------\")\n",
    "print(exaD.static)\n",
    "exaD.static = \"newstatDoch\"\n",
    "print(exaD.static)"
   ]
  },
  {
   "cell_type": "markdown",
   "id": "680248ec",
   "metadata": {},
   "source": [
    "В) \n",
    "ответить на вопрос: возможно ли обратиться к динамическому атрибуту через класс напрямую?"
   ]
  },
  {
   "cell_type": "markdown",
   "id": "e4b64c29",
   "metadata": {},
   "source": [
    "*Ответ:*\n",
    "Нет, это невозможно. Динамический атрибут существует только в контексте экзепляра класса."
   ]
  },
  {
   "cell_type": "markdown",
   "id": "4a030839",
   "metadata": {},
   "source": [
    "Г) Что нужно реализовать в коде для доступа к динамическим атрибутам класса. Например,\n",
    "есть класс «Circle» («Круг») с 2мя динамическими атрибутами: длина радиуса и площадь\n",
    "круга?"
   ]
  },
  {
   "cell_type": "code",
   "execution_count": 2,
   "id": "3603b763",
   "metadata": {},
   "outputs": [
    {
     "name": "stdout",
     "output_type": "stream",
     "text": [
      "10\n",
      "100\n"
     ]
    }
   ],
   "source": [
    "class Circle:\n",
    "    def __init__(self, radius, space):\n",
    "        self.radius = radius\n",
    "        self.space = space\n",
    "\n",
    "example = Circle(10, 100) # Создаем экзепляр и вводим значения для динамических атрибутов\n",
    "print(example.radius)\n",
    "print(example.space)"
   ]
  },
  {
   "cell_type": "code",
   "execution_count": null,
   "id": "c647dc41",
   "metadata": {},
   "outputs": [],
   "source": []
  }
 ],
 "metadata": {
  "kernelspec": {
   "display_name": "Python 3 (ipykernel)",
   "language": "python",
   "name": "python3"
  },
  "language_info": {
   "codemirror_mode": {
    "name": "ipython",
    "version": 3
   },
   "file_extension": ".py",
   "mimetype": "text/x-python",
   "name": "python",
   "nbconvert_exporter": "python",
   "pygments_lexer": "ipython3",
   "version": "3.11.4"
  }
 },
 "nbformat": 4,
 "nbformat_minor": 5
}
