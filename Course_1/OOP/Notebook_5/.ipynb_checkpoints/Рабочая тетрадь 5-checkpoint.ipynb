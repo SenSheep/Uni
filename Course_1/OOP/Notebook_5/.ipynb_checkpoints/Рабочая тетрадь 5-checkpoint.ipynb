{
 "cells": [
  {
   "cell_type": "markdown",
   "id": "07559d73",
   "metadata": {},
   "source": [
    "# Баранов Арсений Юрьевич БФБО-05-23"
   ]
  },
  {
   "cell_type": "markdown",
   "id": "f511f38d",
   "metadata": {},
   "source": [
    "## Теоритический материал\n",
    "### Полиморфизм\n",
    "Помним, что в ООП все программы состоят из объектов. Однако, у разных на вид\n",
    "объектов может быть одинаковый интерфейс — некоторые общие методы, которые они\n",
    "выполняют каждый по-своему. Например, у объектов «веролёт» и «космический корабль»\n",
    "общим методом будет «летать».\n",
    "\n",
    "Полиморфизм даёт возможность использовать одни и те же методы для объектов\n",
    "разных классов. Неважно, как эти объекты устроены, в ООП мы можем приказать\n",
    "вертолёту и космическому кораблю: «Лети». И они будут делать это как умеют: вертолёт\n",
    "закрутит лопастями, а космический корабль запустит ракетный двигатель.\n",
    "\n",
    "Полиморфизм упрощенно можно рассматривать как аналогию работы диспетчера\n",
    "в аэропорту. Ему неважно, какую топливную систему предусмотрел авиаконструктор и как\n",
    "работает система форсажа — он просто даёт команду: «Взлёт разрешаю». После этого\n",
    "на лайнере начинают происходить определенные для данного типа летательного аппарата\n",
    "внутренние процессы, на которые диспетчер уже не влияет.\n",
    "\n",
    "Минутка семантики (раздел лингвистики, изучающий смысловое значение единиц\n",
    "языка). Слово «полиморфизм» переводится с греческого как «многоформенность». Смысл\n",
    "в том, что один и тот же метод может воплощаться по-разному — например, как полёт\n",
    "у дрона и самолёта.\n"
   ]
  },
  {
   "cell_type": "markdown",
   "id": "935c986e",
   "metadata": {},
   "source": [
    "## Задача 1.\n",
    "Необходимо реализовать функционал «Добавить в корзину» для онлайн-магазина\n",
    "для реализуемых товаров: например, ноутбуки, стилусы, планшеты.\n",
    "Задача: написать код, используя принцип полиморфизма, и сделать так, чтобы все\n",
    "товары можно было складывать в корзину и сайт каждый раз автоматически выдавал\n",
    "покупателю сообщение: «Товар такой-то добавлен в корзину»."
   ]
  },
  {
   "cell_type": "code",
   "execution_count": null,
   "id": "187c4427",
   "metadata": {},
   "outputs": [],
   "source": [
    "class Bucket:\n",
    "    def __init__(self):\n",
    "        self.list = []\n",
    "\n",
    "    def add(self, tovar):\n",
    "        self.list.append(tovar)\n",
    "        print(f\"Вы добавили {tovar.kind}\")\n",
    "        print()\n",
    "\n",
    "class Laptop:\n",
    "    def __init__(self, name, color):\n",
    "        self.name = name\n",
    "        self.color = color\n",
    "        self.kind = \"Ноутбук\"\n",
    "\n",
    "    def info(self):\n",
    "        print(f\"Название товара: {self.name}\")\n",
    "        print(f\"Цвет товара: {self.color}\")\n",
    "        print(f\"Тип товара: {self.kind}\")\n",
    "\n",
    "class Stilus:\n",
    "    def __init__(self, name, color):\n",
    "        self.name = name\n",
    "        self.color = color\n",
    "        self.kind = \"Стилус\"\n",
    "\n",
    "    def info(self):\n",
    "        print(f\"Название товара {self.name}\")\n",
    "        print(f\"Цвет товара {self.color}\")\n",
    "        print(f\"Тип товара {self.kind}\")\n",
    "\n",
    "class Tablet:\n",
    "    def __init__(self, name, color):\n",
    "        self.name = name\n",
    "        self.color = color\n",
    "        self.kind = \"Планшет\"\n",
    "\n",
    "    def info(self):\n",
    "        print(f\"Название товара: {self.name}\")\n",
    "        print(f\"Цвет товара: {self.color}\")\n",
    "        print(f\"Тип товара: {self.kind}\")\n",
    "\n",
    "# Для покупателя\n",
    "my_bucket = Bucket()\n",
    "s = \"\"\n",
    "while s != \"Выход\":\n",
    "    s = input(\"Введите название товара или окончания покупок 'Выход' или для проверки корзины 'Список' \")\n",
    "    if s in \"Ноутбук\":\n",
    "        x1 = input(\"Введите название \")\n",
    "        x2 = input(\"Введите цвет \")\n",
    "        my_bucket.add(Laptop(x1, x2))\n",
    "    elif s in \"Стилус\":\n",
    "        x1 = input(\"Введите название \")\n",
    "        x2 = input(\"Введите цвет \")\n",
    "        my_bucket.add(Stilus(x1, x2))\n",
    "    elif s in \"Планшет\":\n",
    "        x1 = input(\"Введите название \")\n",
    "        x2 = input(\"Введите цвет \")\n",
    "        my_bucket.add(Tablet(x1, x2))\n",
    "    elif s in \"Список\":\n",
    "        i = 1\n",
    "        for pro in my_bucket.list: # Полиморфизм\n",
    "            print(f\"Товар {i}\")\n",
    "            pro.info()\n",
    "            i += 1\n",
    "        if i == 1:\n",
    "            print(\"Список пуст\")\n",
    "    elif s != \"Выход\":\n",
    "        print(\"Неверный ввод, повторите\")"
   ]
  },
  {
   "cell_type": "markdown",
   "id": "55db0e54",
   "metadata": {},
   "source": [
    "## Задача 2 (Скучно)\n",
    "В данной задаче обязательно написание комментариев к строкам кода.\n",
    "Придумайте свою задачу, в которой можно было бы продемонстрировать 2 из\n",
    "изученных принципа ООП (полиморфизм и наследование) и реализуйте её на Питоне."
   ]
  },
  {
   "cell_type": "code",
   "execution_count": 2,
   "id": "cb2516c6",
   "metadata": {},
   "outputs": [
    {
     "name": "stdout",
     "output_type": "stream",
     "text": [
      "Гав!\n",
      "Мяу!\n"
     ]
    }
   ],
   "source": [
    "class Animal:\n",
    "    def speak(self):\n",
    "        return None\n",
    "\n",
    "class Dog(Animal): # Использования наследования\n",
    "    def speak(self):\n",
    "        return \"Гав!\"\n",
    "\n",
    "class Cat(Animal): # Использования наследования\n",
    "    def speak(self):\n",
    "        return \"Мяу!\"\n",
    "\n",
    "# Использование полиморфизма\n",
    "animals = [Dog(), Cat()]\n",
    "\n",
    "for animal in animals:\n",
    "    print(animal.speak())"
   ]
  },
  {
   "cell_type": "markdown",
   "id": "333a9a33",
   "metadata": {},
   "source": [
    "## Задача 3\n",
    "В данной задаче обязательно написание комментариев к строкам кода.\n",
    "Придумайте свою задачу, где:\n",
    "\n",
    "А) будут реализованы:\n",
    "- родительский и дочерние классы,\n",
    "- статические и динамические атрибуты классов (помним: суть в том, что для работы\n",
    "со статическим атрибутом не нужно создавать экземпляр класса, а для работы с\n",
    "динамическим – нужно);\n",
    "\n",
    "Б) продемонстрировать кодом и выводом, что будет происходить, если обратиться к\n",
    "статическому атрибуту:\n",
    "- напрямую через экземпляр класса, не меняя атрибут, и\n",
    "- если поменять статический атрибут;\n",
    "\n",
    "В) ответить на вопрос: возможно ли обратиться к динамическому атрибуту через класс\n",
    "напрямую;\n",
    "\n",
    "Г) что нужно реализовать в коде для доступа к динамическим атрибутам класса. Например,\n",
    "есть класс «Circle» («Круг») с 2мя динамическими атрибутами: длина радиуса и площадь\n",
    "круга."
   ]
  },
  {
   "cell_type": "code",
   "execution_count": null,
   "id": "d6efea31",
   "metadata": {},
   "outputs": [],
   "source": [
    "class Rod:\n",
    "    static = \"statRod\"\n",
    "\n",
    "    def __init__(self):\n",
    "        self.dynamic = \"dynRod\"\n",
    "\n",
    "class Doch(Rod):\n",
    "    static = \"statDoch\"\n",
    "\n",
    "    def __init__(self):\n",
    "        self.dynamic = \"dynDoch\"\n",
    "\n",
    "exaR = Rod() # Экзепляр класса Rod\n",
    "exaD = Doch() # Экзепляр класса Doch\n",
    "\n",
    "# Г\n",
    "class Circle:\n",
    "    def __init__(self, radius, space):\n",
    "        self.radius = radius\n",
    "        self.space = space\n",
    "\n",
    "example = Circle(10, 100) # Создаем экзепляр и вводим значения для динамических атрибутов\n",
    "print(example.radius)\n",
    "print(example.space)"
   ]
  },
  {
   "cell_type": "markdown",
   "id": "eee697ce",
   "metadata": {},
   "source": [
    "Б) \n",
    "Продемонстрировать кодом и выводом, что будет происходить, если обратиться к статическому атрибуту:\n",
    "\n",
    "напрямую через экземпляр класса, не меняя атрибут, и\n",
    "если поменять статический атрибут"
   ]
  },
  {
   "cell_type": "code",
   "execution_count": 1,
   "id": "8a80a968",
   "metadata": {},
   "outputs": [
    {
     "ename": "NameError",
     "evalue": "name 'exaR' is not defined",
     "output_type": "error",
     "traceback": [
      "\u001b[1;31m---------------------------------------------------------------------------\u001b[0m",
      "\u001b[1;31mNameError\u001b[0m                                 Traceback (most recent call last)",
      "Cell \u001b[1;32mIn[1], line 1\u001b[0m\n\u001b[1;32m----> 1\u001b[0m \u001b[38;5;28mprint\u001b[39m(exaR\u001b[38;5;241m.\u001b[39mstatic)\n\u001b[0;32m      2\u001b[0m exaR\u001b[38;5;241m.\u001b[39mstatic \u001b[38;5;241m=\u001b[39m \u001b[38;5;124m\"\u001b[39m\u001b[38;5;124mnewstatRod\u001b[39m\u001b[38;5;124m\"\u001b[39m\n\u001b[0;32m      3\u001b[0m \u001b[38;5;28mprint\u001b[39m(exaR\u001b[38;5;241m.\u001b[39mstatic)\n",
      "\u001b[1;31mNameError\u001b[0m: name 'exaR' is not defined"
     ]
    }
   ],
   "source": [
    "print(exaR.static)\n",
    "exaR.static = \"newstatRod\"\n",
    "print(exaR.static)"
   ]
  },
  {
   "cell_type": "markdown",
   "id": "a0e35de2",
   "metadata": {},
   "source": [
    "В) \n",
    "ответить на вопрос: возможно ли обратиться к динамическому атрибуту через класс напрямую?"
   ]
  },
  {
   "cell_type": "markdown",
   "id": "55bcdfd0",
   "metadata": {},
   "source": [
    "*Ответ:*\n",
    "Нет, это невозможно. Динамический атрибут существует только в контексте экзепляра класса."
   ]
  },
  {
   "cell_type": "markdown",
   "id": "230794c2",
   "metadata": {},
   "source": [
    "Г) Что нужно реализовать в коде для доступа к динамическим атрибутам класса. Например,\n",
    "есть класс «Circle» («Круг») с 2мя динамическими атрибутами: длина радиуса и площадь\n",
    "круга?"
   ]
  },
  {
   "cell_type": "code",
   "execution_count": 3,
   "id": "4b2d6cdc",
   "metadata": {},
   "outputs": [
    {
     "name": "stdout",
     "output_type": "stream",
     "text": [
      "10\n",
      "100\n"
     ]
    }
   ],
   "source": [
    "class Circle:\n",
    "    def __init__(self, radius, space):\n",
    "        self.radius = radius\n",
    "        self.space = space\n",
    "\n",
    "example = Circle(10, 100) # Создаем экзепляр и вводим значения для динамических атрибутов\n",
    "print(example.radius)\n",
    "print(example.space)"
   ]
  },
  {
   "cell_type": "code",
   "execution_count": null,
   "id": "b487197c",
   "metadata": {},
   "outputs": [],
   "source": []
  }
 ],
 "metadata": {
  "kernelspec": {
   "display_name": "Python 3 (ipykernel)",
   "language": "python",
   "name": "python3"
  },
  "language_info": {
   "codemirror_mode": {
    "name": "ipython",
    "version": 3
   },
   "file_extension": ".py",
   "mimetype": "text/x-python",
   "name": "python",
   "nbconvert_exporter": "python",
   "pygments_lexer": "ipython3",
   "version": "3.11.4"
  }
 },
 "nbformat": 4,
 "nbformat_minor": 5
}
