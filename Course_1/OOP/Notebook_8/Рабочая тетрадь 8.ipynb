{
 "cells": [
  {
   "cell_type": "markdown",
   "id": "fab21939",
   "metadata": {},
   "source": [
    "# Баранов Арсений Юрьевич. БФБО-05-23"
   ]
  },
  {
   "cell_type": "markdown",
   "id": "3db2a306",
   "metadata": {},
   "source": [
    "## Задание 1\n",
    "Напишите класс «Дом» с полной инкапсуляцией, доступ к атрибутам которого и\n",
    "изменение данных реализуются через вызовы методов get и set.\n",
    "Напомним: В объектно-ориентированном программировании принято имена\n",
    "методов для извлечения данных начинать со слова get (взять), а имена методов,\n",
    "в которых свойствам присваиваются значения, со слова set (установить).\n",
    "Например, getField, setField."
   ]
  },
  {
   "cell_type": "code",
   "execution_count": 2,
   "id": "a021f408",
   "metadata": {},
   "outputs": [
    {
     "name": "stdout",
     "output_type": "stream",
     "text": [
      "Проспект Вернадского, д.78\n",
      "Стромынка, д.20\n"
     ]
    }
   ],
   "source": [
    "class House:\n",
    "    def __init__(self, address, area):\n",
    "        self.__adress = address\n",
    "        self.__area = area\n",
    "\n",
    "    # Метод get\n",
    "    def get__adress(self):\n",
    "        return self.__adress\n",
    "\n",
    "    def get__area(self):\n",
    "        return self.__area\n",
    "\n",
    "    # Метод set\n",
    "    def set__adress(self, new__adress):\n",
    "        self.__adress = new__adress\n",
    "\n",
    "    def set__area(self, new__area):\n",
    "        self.__area = new__area\n",
    "\n",
    "my_house = House(\"Проспект Вернадского, д.78\", \"100 км.\")\n",
    "print(my_house.get__adress())\n",
    "my_house.set__adress(\"Стромынка, д.20\")\n",
    "print(my_house.get__adress())"
   ]
  },
  {
   "cell_type": "markdown",
   "id": "1f165767",
   "metadata": {},
   "source": [
    "## Задание 2\n",
    "Напишите класс «Велосипед» с полной инкапсуляцией, с доступом через\n",
    "аннотацию свойств и проверкой условий правильности вводимых данных"
   ]
  },
  {
   "cell_type": "code",
   "execution_count": 5,
   "id": "4c688d6a",
   "metadata": {},
   "outputs": [
    {
     "name": "stdout",
     "output_type": "stream",
     "text": [
      "SpeedRun\n",
      "SlowLikeTurtle\n"
     ]
    }
   ],
   "source": [
    "class Bicycle:\n",
    "    def __init__(self, brand, model):\n",
    "        self._brand = brand\n",
    "        self._model = model\n",
    "\n",
    "    @property\n",
    "    def brand(self) -> str:\n",
    "        return self._brand\n",
    "\n",
    "    @property\n",
    "    def model(self) -> str:\n",
    "        return self._model\n",
    "\n",
    "    @brand.setter\n",
    "    def brand(self, new_brand: str):\n",
    "        if isinstance(new_brand, str):\n",
    "            self._brand = new_brand\n",
    "        else:\n",
    "            raise ValueError(\"Бренд должен быть строкой.\")\n",
    "\n",
    "    @model.setter\n",
    "    def model(self, new_model: str):\n",
    "        if isinstance(new_model, str):\n",
    "            self._model = new_model\n",
    "        else:\n",
    "            raise ValueError(\"Модель должна быть строкой.\")\n",
    "\n",
    "my_bicycle = Bicycle(\"SpeedRun\", \"T-300\")\n",
    "print(my_bicycle.brand)\n",
    "my_bicycle.brand = \"SlowLikeTurtle\"\n",
    "print(my_bicycle.brand)"
   ]
  },
  {
   "cell_type": "code",
   "execution_count": null,
   "id": "06e3509b",
   "metadata": {},
   "outputs": [],
   "source": []
  }
 ],
 "metadata": {
  "kernelspec": {
   "display_name": "Python 3 (ipykernel)",
   "language": "python",
   "name": "python3"
  },
  "language_info": {
   "codemirror_mode": {
    "name": "ipython",
    "version": 3
   },
   "file_extension": ".py",
   "mimetype": "text/x-python",
   "name": "python",
   "nbconvert_exporter": "python",
   "pygments_lexer": "ipython3",
   "version": "3.11.4"
  }
 },
 "nbformat": 4,
 "nbformat_minor": 5
}
